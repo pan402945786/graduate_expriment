{
 "cells": [
  {
   "cell_type": "markdown",
   "metadata": {
    "id": "bJ33E-3YrVD-"
   },
   "source": [
    "# Imports and Setup"
   ]
  },
  {
   "cell_type": "markdown",
   "metadata": {
    "id": "dphl5P7Sa6wL"
   },
   "source": [
    "This notebook contains code for running a model inversion attack against a trained PyTorch model. It can be tested by the user by uploading a PyTorch model and running the notebook in Google Colab. \n",
    "\n",
    "By default the notebook is set up to attack trained Resnet18 models, as we used for evaluation. This can be altered by changing parameters pertaining to model and input shape."
   ]
  },
  {
   "cell_type": "code",
   "execution_count": 1,
   "metadata": {
    "id": "KHwBjWkKqs0r"
   },
   "outputs": [],
   "source": [
    "import torch\n",
    "import torchvision\n",
    "import numpy as np\n",
    "import matplotlib.pyplot as plt\n",
    "from torchvision import datasets, transforms, models\n",
    "from torch import nn, optim\n",
    "from torch.nn import functional as F\n",
    "from torch.autograd import Variable\n",
    "from scipy import ndimage\n",
    "import copy\n",
    "import random\n",
    "\n",
    "torch.set_printoptions(precision=3)\n",
    "cuda = True if torch.cuda.is_available() else False"
   ]
  },
  {
   "cell_type": "code",
   "execution_count": 2,
   "metadata": {
    "id": "85EQeiNzl4fD"
   },
   "outputs": [],
   "source": [
    "def normalize(img):\n",
    "    img = img / 2 + 0.5     # unnormalize\n",
    "    npimg = img.detach().numpy()\n",
    "    trans = np.transpose(npimg, (1,2,0))\n",
    "    return np.squeeze(trans)"
   ]
  },
  {
   "cell_type": "code",
   "execution_count": 3,
   "metadata": {
    "id": "H5fXJSmz1Qs1"
   },
   "outputs": [],
   "source": [
    "def imshow(img):\n",
    "    temp = normalize(img)\n",
    "    plt.imshow(temp, vmin=0, vmax=1, cmap='Greys_r')\n",
    "    plt.show()"
   ]
  },
  {
   "cell_type": "code",
   "execution_count": 4,
   "metadata": {
    "id": "yu8sdgZKPUb8"
   },
   "outputs": [],
   "source": [
    "def imsave(img):\n",
    "    temp = normalize(img)\n",
    "    plt.imshow(temp, vmin=0, vmax=1, cmap='Greys_r')\n",
    "    plt.axis(\"off\")\n",
    "    plt.savefig(\"inversion.png\", dpi=300)\n",
    "    plt.show()"
   ]
  },
  {
   "cell_type": "code",
   "execution_count": 5,
   "metadata": {
    "id": "s6wD_vNRsLza"
   },
   "outputs": [],
   "source": [
    "# Transform image to tensor and normalize features from [0,255] to [0,1]\n",
    "transform = transforms.Compose([transforms.ToTensor(), \n",
    "                                transforms.Normalize((0.5,),(0.5,)),\n",
    "                                ])"
   ]
  },
  {
   "cell_type": "markdown",
   "metadata": {
    "id": "KwC4bhnrgf9G"
   },
   "source": [
    "# Model Inversion"
   ]
  },
  {
   "cell_type": "markdown",
   "metadata": {
    "id": "rh9PrWexeYOL"
   },
   "source": [
    "The model inversion attack beings with a random noise vector and iteratively takes steps\n",
    "in the direction of decreased classification loss of the target class.\n",
    "\n",
    "model = the pytorch model to attack\n",
    "\n",
    "target = an integer representing the target class\n",
    "\n",
    "learning_rate = floating-point learning rate\n",
    "\n",
    "num_iters = how many iterations to run the attack\n",
    "\n",
    "examples = how many inversion attacks to run\n",
    "\n",
    "show = if True, show each inversion attack as it's generated\n",
    "\n",
    "div = the value to divide the initial noise vector by: noise = noise/div\n",
    "\n",
    "shape  = the shape of the example"
   ]
  },
  {
   "cell_type": "code",
   "execution_count": 6,
   "metadata": {
    "id": "qvxZwTQrSnHR"
   },
   "outputs": [],
   "source": [
    "def invert(model, x, y, num_iters=5000, learning_rate=1, show=False, refine=True, t1 = -1/6, t2 = -1):\n",
    "\n",
    "  model.eval()\n",
    "  nx = Variable(x.data, requires_grad=True)\n",
    "  loss = 10000000\n",
    "\n",
    "  for i in range(num_iters + 1):\n",
    "    if i % 100 == 0:\n",
    "      print(\"\\rIteration: {}\\tLoss: {}\".format(i, loss), end=\"\")\n",
    "    model.zero_grad()\n",
    "    pred = model(nx)\n",
    "    loss = criterion(pred, y)\n",
    "    loss.backward()\n",
    "    nx = nx - learning_rate*nx.grad\n",
    "    if refine:\n",
    "      if i % 500 == 0 and i > 0 and i < num_iters:\n",
    "        nx = ndimage.median_filter(nx.detach(), size=2)\n",
    "        blur = ndimage.gaussian_filter(nx, sigma=2, truncate=t1)\n",
    "        filter_blur = ndimage.gaussian_filter(blur, sigma=1, truncate=t2)\n",
    "        nx = blur + 80 * (blur - filter_blur)\n",
    "        nx = Variable(torch.from_numpy(nx), requires_grad=True)\n",
    "      else:\n",
    "        nx = Variable(nx.data, requires_grad=True)\n",
    "    else:\n",
    "      nx = Variable(nx.data, requires_grad=True)\n",
    "  \n",
    "  return nx[0]"
   ]
  },
  {
   "cell_type": "code",
   "execution_count": 7,
   "metadata": {
    "id": "t-jrZ-chV2Cd"
   },
   "outputs": [],
   "source": [
    "def generate(model, target, learning_rate=1, num_iters=8000, examples=1, show = False, \n",
    "             div=256, shape=(1,1,28,28)):\n",
    "  images = []\n",
    "  for i in range(examples):\n",
    "\n",
    "    print(\"\\nInversion {}/{}\".format(i+1, examples))\n",
    "    noise = torch.rand(shape, dtype=torch.float, requires_grad=False)\n",
    "    noise /= div\n",
    "    noise -= 1\n",
    "    noise.requires_grad=True\n",
    "    targetval = torch.tensor([target])\n",
    "    image = invert(model, noise, targetval, show=False, learning_rate=learning_rate, num_iters=num_iters,\n",
    "                    refine=True)\n",
    "    images.append(image)\n",
    "    if show:\n",
    "      images = torch.stack(images)\n",
    "      imshow(torchvision.utils.make_grid(images, nrow=4))\n",
    "  return images"
   ]
  },
  {
   "cell_type": "markdown",
   "metadata": {
    "id": "RAR3Brnujee6"
   },
   "source": [
    "# Model Loading"
   ]
  },
  {
   "cell_type": "markdown",
   "metadata": {
    "id": "1zQL464xcPUI"
   },
   "source": [
    "To use your own model, replace this section with any torch model"
   ]
  },
  {
   "cell_type": "code",
   "execution_count": 8,
   "metadata": {
    "id": "Qsn4ZDQKY5yy"
   },
   "outputs": [],
   "source": [
    "# load resnet 18 and change to fit problem dimensionality\n",
    "criterion = F.nll_loss\n",
    "model = models.resnet18()\n",
    "model.conv1 = nn.Conv2d(1, 64, kernel_size=(7,7), stride=(2,2), padding=(3,3), bias=False)\n",
    "model.fc = nn.Sequential(nn.Linear(512, 10), nn.LogSoftmax(dim=1))"
   ]
  },
  {
   "cell_type": "code",
   "execution_count": 9,
   "metadata": {
    "colab": {
     "base_uri": "https://localhost:8080/"
    },
    "id": "oBMlFLgaAePS",
    "outputId": "2af69aab-4e12-4a3b-8e0f-f1e8ebac000b"
   },
   "outputs": [
    {
     "ename": "RuntimeError",
     "evalue": "Error(s) in loading state_dict for ResNet:\n\tMissing key(s) in state_dict: \"conv1.weight\", \"bn1.weight\", \"bn1.bias\", \"bn1.running_mean\", \"bn1.running_var\", \"layer1.0.conv1.weight\", \"layer1.0.bn1.weight\", \"layer1.0.bn1.bias\", \"layer1.0.bn1.running_mean\", \"layer1.0.bn1.running_var\", \"layer1.0.conv2.weight\", \"layer1.0.bn2.weight\", \"layer1.0.bn2.bias\", \"layer1.0.bn2.running_mean\", \"layer1.0.bn2.running_var\", \"layer1.1.conv1.weight\", \"layer1.1.bn1.weight\", \"layer1.1.bn1.bias\", \"layer1.1.bn1.running_mean\", \"layer1.1.bn1.running_var\", \"layer1.1.conv2.weight\", \"layer1.1.bn2.weight\", \"layer1.1.bn2.bias\", \"layer1.1.bn2.running_mean\", \"layer1.1.bn2.running_var\", \"layer2.0.conv1.weight\", \"layer2.0.bn1.weight\", \"layer2.0.bn1.bias\", \"layer2.0.bn1.running_mean\", \"layer2.0.bn1.running_var\", \"layer2.0.conv2.weight\", \"layer2.0.bn2.weight\", \"layer2.0.bn2.bias\", \"layer2.0.bn2.running_mean\", \"layer2.0.bn2.running_var\", \"layer2.0.downsample.0.weight\", \"layer2.0.downsample.1.weight\", \"layer2.0.downsample.1.bias\", \"layer2.0.downsample.1.running_mean\", \"layer2.0.downsample.1.running_var\", \"layer2.1.conv1.weight\", \"layer2.1.bn1.weight\", \"layer2.1.bn1.bias\", \"layer2.1.bn1.running_mean\", \"layer2.1.bn1.running_var\", \"layer2.1.conv2.weight\", \"layer2.1.bn2.weight\", \"layer2.1.bn2.bias\", \"layer2.1.bn2.running_mean\", \"layer2.1.bn2.running_var\", \"layer3.0.conv1.weight\", \"layer3.0.bn1.weight\", \"layer3.0.bn1.bias\", \"layer3.0.bn1.running_mean\", \"layer3.0.bn1.running_var\", \"layer3.0.conv2.weight\", \"layer3.0.bn2.weight\", \"layer3.0.bn2.bias\", \"layer3.0.bn2.running_mean\", \"layer3.0.bn2.running_var\", \"layer3.0.downsample.0.weight\", \"layer3.0.downsample.1.weight\", \"layer3.0.downsample.1.bias\", \"layer3.0.downsample.1.running_mean\", \"layer3.0.downsample.1.running_var\", \"layer3.1.conv1.weight\", \"layer3.1.bn1.weight\", \"layer3.1.bn1.bias\", \"layer3.1.bn1.running_mean\", \"layer3.1.bn1.running_var\", \"layer3.1.conv2.weight\", \"layer3.1.bn2.weight\", \"layer3.1.bn2.bias\", \"layer3.1.bn2.running_mean\", \"layer3.1.bn2.running_var\", \"layer4.0.conv1.weight\", \"layer4.0.bn1.weight\", \"layer4.0.bn1.bias\", \"layer4.0.bn1.running_mean\", \"layer4.0.bn1.running_var\", \"layer4.0.conv2.weight\", \"layer4.0.bn2.weight\", \"layer4.0.bn2.bias\", \"layer4.0.bn2.running_mean\", \"layer4.0.bn2.running_var\", \"layer4.0.downsample.0.weight\", \"layer4.0.downsample.1.weight\", \"layer4.0.downsample.1.bias\", \"layer4.0.downsample.1.running_mean\", \"layer4.0.downsample.1.running_var\", \"layer4.1.conv1.weight\", \"layer4.1.bn1.weight\", \"layer4.1.bn1.bias\", \"layer4.1.bn1.running_mean\", \"layer4.1.bn1.running_var\", \"layer4.1.conv2.weight\", \"layer4.1.bn2.weight\", \"layer4.1.bn2.bias\", \"layer4.1.bn2.running_mean\", \"layer4.1.bn2.running_var\", \"fc.0.weight\", \"fc.0.bias\". \n\tUnexpected key(s) in state_dict: \"conv1.0.weight\", \"conv1.1.weight\", \"conv1.1.bias\", \"conv1.1.running_mean\", \"conv1.1.running_var\", \"conv1.1.num_batches_tracked\", \"layer1.0.left.0.weight\", \"layer1.0.left.1.weight\", \"layer1.0.left.1.bias\", \"layer1.0.left.1.running_mean\", \"layer1.0.left.1.running_var\", \"layer1.0.left.1.num_batches_tracked\", \"layer1.0.left.3.weight\", \"layer1.0.left.4.weight\", \"layer1.0.left.4.bias\", \"layer1.0.left.4.running_mean\", \"layer1.0.left.4.running_var\", \"layer1.0.left.4.num_batches_tracked\", \"layer1.1.left.0.weight\", \"layer1.1.left.1.weight\", \"layer1.1.left.1.bias\", \"layer1.1.left.1.running_mean\", \"layer1.1.left.1.running_var\", \"layer1.1.left.1.num_batches_tracked\", \"layer1.1.left.3.weight\", \"layer1.1.left.4.weight\", \"layer1.1.left.4.bias\", \"layer1.1.left.4.running_mean\", \"layer1.1.left.4.running_var\", \"layer1.1.left.4.num_batches_tracked\", \"layer2.0.left.0.weight\", \"layer2.0.left.1.weight\", \"layer2.0.left.1.bias\", \"layer2.0.left.1.running_mean\", \"layer2.0.left.1.running_var\", \"layer2.0.left.1.num_batches_tracked\", \"layer2.0.left.3.weight\", \"layer2.0.left.4.weight\", \"layer2.0.left.4.bias\", \"layer2.0.left.4.running_mean\", \"layer2.0.left.4.running_var\", \"layer2.0.left.4.num_batches_tracked\", \"layer2.0.shortcut.0.weight\", \"layer2.0.shortcut.1.weight\", \"layer2.0.shortcut.1.bias\", \"layer2.0.shortcut.1.running_mean\", \"layer2.0.shortcut.1.running_var\", \"layer2.0.shortcut.1.num_batches_tracked\", \"layer2.1.left.0.weight\", \"layer2.1.left.1.weight\", \"layer2.1.left.1.bias\", \"layer2.1.left.1.running_mean\", \"layer2.1.left.1.running_var\", \"layer2.1.left.1.num_batches_tracked\", \"layer2.1.left.3.weight\", \"layer2.1.left.4.weight\", \"layer2.1.left.4.bias\", \"layer2.1.left.4.running_mean\", \"layer2.1.left.4.running_var\", \"layer2.1.left.4.num_batches_tracked\", \"layer3.0.left.0.weight\", \"layer3.0.left.1.weight\", \"layer3.0.left.1.bias\", \"layer3.0.left.1.running_mean\", \"layer3.0.left.1.running_var\", \"layer3.0.left.1.num_batches_tracked\", \"layer3.0.left.3.weight\", \"layer3.0.left.4.weight\", \"layer3.0.left.4.bias\", \"layer3.0.left.4.running_mean\", \"layer3.0.left.4.running_var\", \"layer3.0.left.4.num_batches_tracked\", \"layer3.0.shortcut.0.weight\", \"layer3.0.shortcut.1.weight\", \"layer3.0.shortcut.1.bias\", \"layer3.0.shortcut.1.running_mean\", \"layer3.0.shortcut.1.running_var\", \"layer3.0.shortcut.1.num_batches_tracked\", \"layer3.1.left.0.weight\", \"layer3.1.left.1.weight\", \"layer3.1.left.1.bias\", \"layer3.1.left.1.running_mean\", \"layer3.1.left.1.running_var\", \"layer3.1.left.1.num_batches_tracked\", \"layer3.1.left.3.weight\", \"layer3.1.left.4.weight\", \"layer3.1.left.4.bias\", \"layer3.1.left.4.running_mean\", \"layer3.1.left.4.running_var\", \"layer3.1.left.4.num_batches_tracked\", \"layer4.0.left.0.weight\", \"layer4.0.left.1.weight\", \"layer4.0.left.1.bias\", \"layer4.0.left.1.running_mean\", \"layer4.0.left.1.running_var\", \"layer4.0.left.1.num_batches_tracked\", \"layer4.0.left.3.weight\", \"layer4.0.left.4.weight\", \"layer4.0.left.4.bias\", \"layer4.0.left.4.running_mean\", \"layer4.0.left.4.running_var\", \"layer4.0.left.4.num_batches_tracked\", \"layer4.0.shortcut.0.weight\", \"layer4.0.shortcut.1.weight\", \"layer4.0.shortcut.1.bias\", \"layer4.0.shortcut.1.running_mean\", \"layer4.0.shortcut.1.running_var\", \"layer4.0.shortcut.1.num_batches_tracked\", \"layer4.1.left.0.weight\", \"layer4.1.left.1.weight\", \"layer4.1.left.1.bias\", \"layer4.1.left.1.running_mean\", \"layer4.1.left.1.running_var\", \"layer4.1.left.1.num_batches_tracked\", \"layer4.1.left.3.weight\", \"layer4.1.left.4.weight\", \"layer4.1.left.4.bias\", \"layer4.1.left.4.running_mean\", \"layer4.1.left.4.running_var\", \"layer4.1.left.4.num_batches_tracked\", \"fc.weight\", \"fc.bias\". ",
     "output_type": "error",
     "traceback": [
      "\u001b[1;31m---------------------------------------------------------------------------\u001b[0m",
      "\u001b[1;31mRuntimeError\u001b[0m                              Traceback (most recent call last)",
      "\u001b[1;32m<ipython-input-9-4018cfeae8d9>\u001b[0m in \u001b[0;36m<module>\u001b[1;34m\u001b[0m\n\u001b[0;32m      2\u001b[0m \u001b[0mpath\u001b[0m \u001b[1;33m=\u001b[0m \u001b[1;34mF\"resnet18_cifar10_normal_train_finished_saving_60.pth\"\u001b[0m\u001b[1;33m\u001b[0m\u001b[1;33m\u001b[0m\u001b[0m\n\u001b[0;32m      3\u001b[0m \u001b[0mcheckpoint\u001b[0m \u001b[1;33m=\u001b[0m \u001b[0mtorch\u001b[0m\u001b[1;33m.\u001b[0m\u001b[0mload\u001b[0m\u001b[1;33m(\u001b[0m\u001b[0mpath\u001b[0m\u001b[1;33m)\u001b[0m\u001b[1;33m\u001b[0m\u001b[1;33m\u001b[0m\u001b[0m\n\u001b[1;32m----> 4\u001b[1;33m \u001b[0mmodel\u001b[0m\u001b[1;33m.\u001b[0m\u001b[0mload_state_dict\u001b[0m\u001b[1;33m(\u001b[0m\u001b[0mcheckpoint\u001b[0m\u001b[1;33m)\u001b[0m\u001b[1;33m\u001b[0m\u001b[1;33m\u001b[0m\u001b[0m\n\u001b[0m",
      "\u001b[1;32mD:\\www\\graduate_expriment\\venv\\lib\\site-packages\\torch\\nn\\modules\\module.py\u001b[0m in \u001b[0;36mload_state_dict\u001b[1;34m(self, state_dict, strict)\u001b[0m\n\u001b[0;32m   1049\u001b[0m \u001b[1;33m\u001b[0m\u001b[0m\n\u001b[0;32m   1050\u001b[0m         \u001b[1;32mif\u001b[0m \u001b[0mlen\u001b[0m\u001b[1;33m(\u001b[0m\u001b[0merror_msgs\u001b[0m\u001b[1;33m)\u001b[0m \u001b[1;33m>\u001b[0m \u001b[1;36m0\u001b[0m\u001b[1;33m:\u001b[0m\u001b[1;33m\u001b[0m\u001b[1;33m\u001b[0m\u001b[0m\n\u001b[1;32m-> 1051\u001b[1;33m             raise RuntimeError('Error(s) in loading state_dict for {}:\\n\\t{}'.format(\n\u001b[0m\u001b[0;32m   1052\u001b[0m                                self.__class__.__name__, \"\\n\\t\".join(error_msgs)))\n\u001b[0;32m   1053\u001b[0m         \u001b[1;32mreturn\u001b[0m \u001b[0m_IncompatibleKeys\u001b[0m\u001b[1;33m(\u001b[0m\u001b[0mmissing_keys\u001b[0m\u001b[1;33m,\u001b[0m \u001b[0munexpected_keys\u001b[0m\u001b[1;33m)\u001b[0m\u001b[1;33m\u001b[0m\u001b[1;33m\u001b[0m\u001b[0m\n",
      "\u001b[1;31mRuntimeError\u001b[0m: Error(s) in loading state_dict for ResNet:\n\tMissing key(s) in state_dict: \"conv1.weight\", \"bn1.weight\", \"bn1.bias\", \"bn1.running_mean\", \"bn1.running_var\", \"layer1.0.conv1.weight\", \"layer1.0.bn1.weight\", \"layer1.0.bn1.bias\", \"layer1.0.bn1.running_mean\", \"layer1.0.bn1.running_var\", \"layer1.0.conv2.weight\", \"layer1.0.bn2.weight\", \"layer1.0.bn2.bias\", \"layer1.0.bn2.running_mean\", \"layer1.0.bn2.running_var\", \"layer1.1.conv1.weight\", \"layer1.1.bn1.weight\", \"layer1.1.bn1.bias\", \"layer1.1.bn1.running_mean\", \"layer1.1.bn1.running_var\", \"layer1.1.conv2.weight\", \"layer1.1.bn2.weight\", \"layer1.1.bn2.bias\", \"layer1.1.bn2.running_mean\", \"layer1.1.bn2.running_var\", \"layer2.0.conv1.weight\", \"layer2.0.bn1.weight\", \"layer2.0.bn1.bias\", \"layer2.0.bn1.running_mean\", \"layer2.0.bn1.running_var\", \"layer2.0.conv2.weight\", \"layer2.0.bn2.weight\", \"layer2.0.bn2.bias\", \"layer2.0.bn2.running_mean\", \"layer2.0.bn2.running_var\", \"layer2.0.downsample.0.weight\", \"layer2.0.downsample.1.weight\", \"layer2.0.downsample.1.bias\", \"layer2.0.downsample.1.running_mean\", \"layer2.0.downsample.1.running_var\", \"layer2.1.conv1.weight\", \"layer2.1.bn1.weight\", \"layer2.1.bn1.bias\", \"layer2.1.bn1.running_mean\", \"layer2.1.bn1.running_var\", \"layer2.1.conv2.weight\", \"layer2.1.bn2.weight\", \"layer2.1.bn2.bias\", \"layer2.1.bn2.running_mean\", \"layer2.1.bn2.running_var\", \"layer3.0.conv1.weight\", \"layer3.0.bn1.weight\", \"layer3.0.bn1.bias\", \"layer3.0.bn1.running_mean\", \"layer3.0.bn1.running_var\", \"layer3.0.conv2.weight\", \"layer3.0.bn2.weight\", \"layer3.0.bn2.bias\", \"layer3.0.bn2.running_mean\", \"layer3.0.bn2.running_var\", \"layer3.0.downsample.0.weight\", \"layer3.0.downsample.1.weight\", \"layer3.0.downsample.1.bias\", \"layer3.0.downsample.1.running_mean\", \"layer3.0.downsample.1.running_var\", \"layer3.1.conv1.weight\", \"layer3.1.bn1.weight\", \"layer3.1.bn1.bias\", \"layer3.1.bn1.running_mean\", \"layer3.1.bn1.running_var\", \"layer3.1.conv2.weight\", \"layer3.1.bn2.weight\", \"layer3.1.bn2.bias\", \"layer3.1.bn2.running_mean\", \"layer3.1.bn2.running_var\", \"layer4.0.conv1.weight\", \"layer4.0.bn1.weight\", \"layer4.0.bn1.bias\", \"layer4.0.bn1.running_mean\", \"layer4.0.bn1.running_var\", \"layer4.0.conv2.weight\", \"layer4.0.bn2.weight\", \"layer4.0.bn2.bias\", \"layer4.0.bn2.running_mean\", \"layer4.0.bn2.running_var\", \"layer4.0.downsample.0.weight\", \"layer4.0.downsample.1.weight\", \"layer4.0.downsample.1.bias\", \"layer4.0.downsample.1.running_mean\", \"layer4.0.downsample.1.running_var\", \"layer4.1.conv1.weight\", \"layer4.1.bn1.weight\", \"layer4.1.bn1.bias\", \"layer4.1.bn1.running_mean\", \"layer4.1.bn1.running_var\", \"layer4.1.conv2.weight\", \"layer4.1.bn2.weight\", \"layer4.1.bn2.bias\", \"layer4.1.bn2.running_mean\", \"layer4.1.bn2.running_var\", \"fc.0.weight\", \"fc.0.bias\". \n\tUnexpected key(s) in state_dict: \"conv1.0.weight\", \"conv1.1.weight\", \"conv1.1.bias\", \"conv1.1.running_mean\", \"conv1.1.running_var\", \"conv1.1.num_batches_tracked\", \"layer1.0.left.0.weight\", \"layer1.0.left.1.weight\", \"layer1.0.left.1.bias\", \"layer1.0.left.1.running_mean\", \"layer1.0.left.1.running_var\", \"layer1.0.left.1.num_batches_tracked\", \"layer1.0.left.3.weight\", \"layer1.0.left.4.weight\", \"layer1.0.left.4.bias\", \"layer1.0.left.4.running_mean\", \"layer1.0.left.4.running_var\", \"layer1.0.left.4.num_batches_tracked\", \"layer1.1.left.0.weight\", \"layer1.1.left.1.weight\", \"layer1.1.left.1.bias\", \"layer1.1.left.1.running_mean\", \"layer1.1.left.1.running_var\", \"layer1.1.left.1.num_batches_tracked\", \"layer1.1.left.3.weight\", \"layer1.1.left.4.weight\", \"layer1.1.left.4.bias\", \"layer1.1.left.4.running_mean\", \"layer1.1.left.4.running_var\", \"layer1.1.left.4.num_batches_tracked\", \"layer2.0.left.0.weight\", \"layer2.0.left.1.weight\", \"layer2.0.left.1.bias\", \"layer2.0.left.1.running_mean\", \"layer2.0.left.1.running_var\", \"layer2.0.left.1.num_batches_tracked\", \"layer2.0.left.3.weight\", \"layer2.0.left.4.weight\", \"layer2.0.left.4.bias\", \"layer2.0.left.4.running_mean\", \"layer2.0.left.4.running_var\", \"layer2.0.left.4.num_batches_tracked\", \"layer2.0.shortcut.0.weight\", \"layer2.0.shortcut.1.weight\", \"layer2.0.shortcut.1.bias\", \"layer2.0.shortcut.1.running_mean\", \"layer2.0.shortcut.1.running_var\", \"layer2.0.shortcut.1.num_batches_tracked\", \"layer2.1.left.0.weight\", \"layer2.1.left.1.weight\", \"layer2.1.left.1.bias\", \"layer2.1.left.1.running_mean\", \"layer2.1.left.1.running_var\", \"layer2.1.left.1.num_batches_tracked\", \"layer2.1.left.3.weight\", \"layer2.1.left.4.weight\", \"layer2.1.left.4.bias\", \"layer2.1.left.4.running_mean\", \"layer2.1.left.4.running_var\", \"layer2.1.left.4.num_batches_tracked\", \"layer3.0.left.0.weight\", \"layer3.0.left.1.weight\", \"layer3.0.left.1.bias\", \"layer3.0.left.1.running_mean\", \"layer3.0.left.1.running_var\", \"layer3.0.left.1.num_batches_tracked\", \"layer3.0.left.3.weight\", \"layer3.0.left.4.weight\", \"layer3.0.left.4.bias\", \"layer3.0.left.4.running_mean\", \"layer3.0.left.4.running_var\", \"layer3.0.left.4.num_batches_tracked\", \"layer3.0.shortcut.0.weight\", \"layer3.0.shortcut.1.weight\", \"layer3.0.shortcut.1.bias\", \"layer3.0.shortcut.1.running_mean\", \"layer3.0.shortcut.1.running_var\", \"layer3.0.shortcut.1.num_batches_tracked\", \"layer3.1.left.0.weight\", \"layer3.1.left.1.weight\", \"layer3.1.left.1.bias\", \"layer3.1.left.1.running_mean\", \"layer3.1.left.1.running_var\", \"layer3.1.left.1.num_batches_tracked\", \"layer3.1.left.3.weight\", \"layer3.1.left.4.weight\", \"layer3.1.left.4.bias\", \"layer3.1.left.4.running_mean\", \"layer3.1.left.4.running_var\", \"layer3.1.left.4.num_batches_tracked\", \"layer4.0.left.0.weight\", \"layer4.0.left.1.weight\", \"layer4.0.left.1.bias\", \"layer4.0.left.1.running_mean\", \"layer4.0.left.1.running_var\", \"layer4.0.left.1.num_batches_tracked\", \"layer4.0.left.3.weight\", \"layer4.0.left.4.weight\", \"layer4.0.left.4.bias\", \"layer4.0.left.4.running_mean\", \"layer4.0.left.4.running_var\", \"layer4.0.left.4.num_batches_tracked\", \"layer4.0.shortcut.0.weight\", \"layer4.0.shortcut.1.weight\", \"layer4.0.shortcut.1.bias\", \"layer4.0.shortcut.1.running_mean\", \"layer4.0.shortcut.1.running_var\", \"layer4.0.shortcut.1.num_batches_tracked\", \"layer4.1.left.0.weight\", \"layer4.1.left.1.weight\", \"layer4.1.left.1.bias\", \"layer4.1.left.1.running_mean\", \"layer4.1.left.1.running_var\", \"layer4.1.left.1.num_batches_tracked\", \"layer4.1.left.3.weight\", \"layer4.1.left.4.weight\", \"layer4.1.left.4.bias\", \"layer4.1.left.4.running_mean\", \"layer4.1.left.4.running_var\", \"layer4.1.left.4.num_batches_tracked\", \"fc.weight\", \"fc.bias\". "
     ]
    }
   ],
   "source": [
    "# path = F\"retraining-epoch-15.pt\"\n",
    "path = F\"resnet18_cifar10_normal_train_finished_saving_60.pth\"\n",
    "checkpoint = torch.load(path)\n",
    "model.load_state_dict(checkpoint)"
   ]
  },
  {
   "cell_type": "markdown",
   "metadata": {
    "id": "DxqnoF4kkX3I"
   },
   "source": [
    "# Inversion Attack"
   ]
  },
  {
   "cell_type": "code",
   "execution_count": null,
   "metadata": {
    "colab": {
     "base_uri": "https://localhost:8080/",
     "height": 739
    },
    "id": "mQbU3BMdkZP4",
    "outputId": "3a760d2d-e969-4196-9ec0-c4b0cd6de7d1"
   },
   "outputs": [],
   "source": [
    "inversion = generate(model, target=3, num_iters=1000, examples=12, div=128)\n",
    "images = torch.stack(inversion)\n",
    "imshow(torchvision.utils.make_grid(images, nrow=4))"
   ]
  }
 ],
 "metadata": {
  "accelerator": "GPU",
  "colab": {
   "collapsed_sections": [],
   "machine_shape": "hm",
   "name": "Amnesiac ML Inversions.ipynb",
   "provenance": [],
   "toc_visible": true
  },
  "kernelspec": {
   "display_name": "PyCharm (Model-Inversion-Attack-master)",
   "language": "python",
   "name": "pycharm-614534a2"
  },
  "language_info": {
   "codemirror_mode": {
    "name": "ipython",
    "version": 3
   },
   "file_extension": ".py",
   "mimetype": "text/x-python",
   "name": "python",
   "nbconvert_exporter": "python",
   "pygments_lexer": "ipython3",
   "version": "3.8.7"
  }
 },
 "nbformat": 4,
 "nbformat_minor": 1
}
