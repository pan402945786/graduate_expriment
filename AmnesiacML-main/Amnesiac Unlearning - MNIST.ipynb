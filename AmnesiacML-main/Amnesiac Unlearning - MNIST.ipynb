{
 "cells": [
  {
   "cell_type": "markdown",
   "metadata": {
    "colab_type": "text",
    "id": "bJ33E-3YrVD-"
   },
   "source": [
    "# Imports and Setup"
   ]
  },
  {
   "cell_type": "code",
   "execution_count": null,
   "metadata": {},
   "outputs": [],
   "source": [
    "!pip install ipywidgets --user\n",
    "!pip install --upgrade jupyter_client"
   ]
  },
  {
   "cell_type": "code",
   "execution_count": 21,
   "metadata": {
    "colab": {},
    "colab_type": "code",
    "executionInfo": {
     "elapsed": 4478,
     "status": "ok",
     "timestamp": 1597325221727,
     "user": {
      "displayName": "Laura Graves",
      "photoUrl": "https://lh3.googleusercontent.com/a-/AOh14GiKkfAu7BQzHB05KzNcpkWJTPiliHjKSyQr1GwxRA=s64",
      "userId": "02198458421856045349"
     },
     "user_tz": 240
    },
    "id": "KHwBjWkKqs0r"
   },
   "outputs": [],
   "source": [
    "import torch\n",
    "import torchvision\n",
    "import numpy as np\n",
    "import matplotlib.pyplot as plt\n",
    "from torchvision import datasets, transforms, models\n",
    "from torch import nn, optim\n",
    "from torch.nn import functional as F\n",
    "from torch.autograd import Variable\n",
    "from scipy import ndimage\n",
    "import copy\n",
    "import random\n",
    "import time\n",
    "import pickle\n",
    "\n",
    "torch.set_printoptions(precision=3)\n",
    "cuda = True if torch.cuda.is_available() else False"
   ]
  },
  {
   "cell_type": "code",
   "execution_count": 22,
   "metadata": {
    "colab": {},
    "colab_type": "code",
    "executionInfo": {
     "elapsed": 4475,
     "status": "ok",
     "timestamp": 1597325221731,
     "user": {
      "displayName": "Laura Graves",
      "photoUrl": "https://lh3.googleusercontent.com/a-/AOh14GiKkfAu7BQzHB05KzNcpkWJTPiliHjKSyQr1GwxRA=s64",
      "userId": "02198458421856045349"
     },
     "user_tz": 240
    },
    "id": "85EQeiNzl4fD"
   },
   "outputs": [],
   "source": [
    "def normalize(img):\n",
    "    img = img / 2 + 0.5     # unnormalize\n",
    "    npimg = img.detach().numpy()\n",
    "    trans = np.transpose(npimg, (1,2,0))\n",
    "    return np.squeeze(trans)"
   ]
  },
  {
   "cell_type": "code",
   "execution_count": 23,
   "metadata": {
    "colab": {},
    "colab_type": "code",
    "executionInfo": {
     "elapsed": 4472,
     "status": "ok",
     "timestamp": 1597325221732,
     "user": {
      "displayName": "Laura Graves",
      "photoUrl": "https://lh3.googleusercontent.com/a-/AOh14GiKkfAu7BQzHB05KzNcpkWJTPiliHjKSyQr1GwxRA=s64",
      "userId": "02198458421856045349"
     },
     "user_tz": 240
    },
    "id": "H5fXJSmz1Qs1"
   },
   "outputs": [],
   "source": [
    "def imshow(img):\n",
    "    temp = normalize(img)\n",
    "    plt.imshow(temp, vmin=0, vmax=1, cmap='Greys_r')\n",
    "    plt.show()"
   ]
  },
  {
   "cell_type": "markdown",
   "metadata": {
    "colab_type": "text",
    "id": "0Fg9SwPurYwu"
   },
   "source": [
    "# Data Entry and Processing"
   ]
  },
  {
   "cell_type": "code",
   "execution_count": 24,
   "metadata": {
    "colab": {},
    "colab_type": "code",
    "executionInfo": {
     "elapsed": 313,
     "status": "ok",
     "timestamp": 1597325498446,
     "user": {
      "displayName": "Laura Graves",
      "photoUrl": "https://lh3.googleusercontent.com/a-/AOh14GiKkfAu7BQzHB05KzNcpkWJTPiliHjKSyQr1GwxRA=s64",
      "userId": "02198458421856045349"
     },
     "user_tz": 240
    },
    "id": "OxwbMjoErc73"
   },
   "outputs": [],
   "source": [
    "# Transform image to tensor and normalize features from [0,255] to [0,1]\n",
    "transform = transforms.Compose([transforms.ToTensor(), \n",
    "                                transforms.Normalize((0.5,),(0.5,)),\n",
    "                                ])"
   ]
  },
  {
   "cell_type": "code",
   "execution_count": 25,
   "metadata": {
    "colab": {
     "base_uri": "https://localhost:8080/",
     "height": 443,
     "referenced_widgets": [
      "46066bea204a4bbe830528b5de0c8372",
      "b05a86270f424627bf697b84cb880d3b",
      "ee278e96efb140cd8720739850c7567f",
      "71cb68dc80304efda622d5b0292667fb",
      "3b9265b3099846aabd75858c3bb5f5df",
      "c94ce7e9c3bc4bc7b25c4ce3861987df",
      "fd7f85df549c48b0b243f60fd4cb5b0f",
      "c538440ed4804e68beebf63eab85c61b",
      "9967f6c34acb4814b361004d2b75a075",
      "04fa014b4b174774b2051e6e9491fe09",
      "5a222c004e144a9a89806b32517d1abe",
      "c4c370e2d0a04fa082e7747a93294ba8",
      "be4bf227a70547f8a6718540b82c65a8",
      "a271a8b73de64d328aae4b7f5be56de6",
      "3d9642bfafc541a88affbf65e89700fd",
      "b20301e5279a4c9a8ffb693c16ade0c0",
      "c4391ac0090443e4824d2d147ae94448",
      "987ffacff90040d5b07a2f462c42ab5f",
      "08dddba55de24a49bf9c84f2cedbba00",
      "090474d95f1d48d3aecc44f785c57ca2",
      "4b03eb022f1d445abdc9cc4379238478",
      "f4b73c98de9349a09b2275cf2f1ad005",
      "72ee481e0e90406baf0bf2722f026b8a",
      "79522c5c11fd455895f6def40115c1b1",
      "b73c5dbad7e447e182061d48380fd3bf",
      "35c84a4ed1ba4870b1336e006c33e767",
      "add6cb57c0f6409ca83c37cc00b50083",
      "ba32e53d6f5d44d2b7721f14a7737e9e",
      "06a73fae4ed0415b85d31ae2fd7ef4b6",
      "790abeec3d4241c1b4bc1e69086308dc",
      "5dca13cc37aa42769c223bb2198592dc",
      "156b1c5c87534d6a97220dc9177a59df"
     ]
    },
    "colab_type": "code",
    "executionInfo": {
     "elapsed": 1878,
     "status": "ok",
     "timestamp": 1597325500586,
     "user": {
      "displayName": "Laura Graves",
      "photoUrl": "https://lh3.googleusercontent.com/a-/AOh14GiKkfAu7BQzHB05KzNcpkWJTPiliHjKSyQr1GwxRA=s64",
      "userId": "02198458421856045349"
     },
     "user_tz": 240
    },
    "id": "MXC2v1cDsR6o",
    "outputId": "be58307c-5a7c-472a-f1d0-d805364443af"
   },
   "outputs": [],
   "source": [
    "# Using MNIST\n",
    "traindata = datasets.MNIST('/data', download=True, train=True, transform=transform)\n",
    "testdata = datasets.MNIST('/data', download=True, train=False, transform=transform)"
   ]
  },
  {
   "cell_type": "code",
   "execution_count": 26,
   "metadata": {
    "colab": {},
    "colab_type": "code",
    "executionInfo": {
     "elapsed": 513,
     "status": "ok",
     "timestamp": 1597325501243,
     "user": {
      "displayName": "Laura Graves",
      "photoUrl": "https://lh3.googleusercontent.com/a-/AOh14GiKkfAu7BQzHB05KzNcpkWJTPiliHjKSyQr1GwxRA=s64",
      "userId": "02198458421856045349"
     },
     "user_tz": 240
    },
    "id": "J1HdLLfPvwhw"
   },
   "outputs": [],
   "source": [
    "# Loaders that give 64 example batches\n",
    "all_data_train_loader = torch.utils.data.DataLoader(traindata, batch_size=64, shuffle=True)\n",
    "all_data_test_loader = torch.utils.data.DataLoader(testdata, batch_size=64, shuffle=True)"
   ]
  },
  {
   "cell_type": "code",
   "execution_count": 27,
   "metadata": {
    "colab": {},
    "colab_type": "code",
    "executionInfo": {
     "elapsed": 2677,
     "status": "ok",
     "timestamp": 1597325503931,
     "user": {
      "displayName": "Laura Graves",
      "photoUrl": "https://lh3.googleusercontent.com/a-/AOh14GiKkfAu7BQzHB05KzNcpkWJTPiliHjKSyQr1GwxRA=s64",
      "userId": "02198458421856045349"
     },
     "user_tz": 240
    },
    "id": "iCHyy4w_S7aV"
   },
   "outputs": [],
   "source": [
    "# Test dataloader with 3's only\n",
    "threes_index = []\n",
    "nonthrees_index = []\n",
    "for i in range(0, len(testdata)):\n",
    "  if testdata[i][1] == 3:\n",
    "    threes_index.append(i)\n",
    "  else:\n",
    "    nonthrees_index.append(i)\n",
    "three_test_loader = torch.utils.data.DataLoader(testdata, batch_size=64,\n",
    "              sampler = torch.utils.data.SubsetRandomSampler(threes_index))\n",
    "nonthree_test_loader = torch.utils.data.DataLoader(testdata, batch_size=64,\n",
    "              sampler = torch.utils.data.SubsetRandomSampler(nonthrees_index))"
   ]
  },
  {
   "cell_type": "code",
   "execution_count": 28,
   "metadata": {
    "colab": {},
    "colab_type": "code",
    "executionInfo": {
     "elapsed": 12040,
     "status": "ok",
     "timestamp": 1597325515030,
     "user": {
      "displayName": "Laura Graves",
      "photoUrl": "https://lh3.googleusercontent.com/a-/AOh14GiKkfAu7BQzHB05KzNcpkWJTPiliHjKSyQr1GwxRA=s64",
      "userId": "02198458421856045349"
     },
     "user_tz": 240
    },
    "id": "gmMmWlHaC5Q5"
   },
   "outputs": [],
   "source": [
    "# Train dataloaders with limited 3s\n",
    "nonthrees_index = []\n",
    "threes_index = []\n",
    "count = 0\n",
    "for i in range(0, len(traindata)):\n",
    "  if traindata[i][1] != 3:\n",
    "    nonthrees_index.append(i)\n",
    "    threes_index.append(i)\n",
    "  if traindata[i][1] == 3 and count < 100:\n",
    "    count += 1\n",
    "    threes_index.append(i)\n",
    "nonthree_train_loader = torch.utils.data.DataLoader(traindata, batch_size=64,\n",
    "                     sampler = torch.utils.data.SubsetRandomSampler(nonthrees_index))\n",
    "three_train_loader = torch.utils.data.DataLoader(traindata, batch_size=64,\n",
    "                     sampler = torch.utils.data.SubsetRandomSampler(threes_index))"
   ]
  },
  {
   "cell_type": "code",
   "execution_count": 29,
   "metadata": {
    "colab": {},
    "colab_type": "code",
    "executionInfo": {
     "elapsed": 12331,
     "status": "ok",
     "timestamp": 1597325515863,
     "user": {
      "displayName": "Laura Graves",
      "photoUrl": "https://lh3.googleusercontent.com/a-/AOh14GiKkfAu7BQzHB05KzNcpkWJTPiliHjKSyQr1GwxRA=s64",
      "userId": "02198458421856045349"
     },
     "user_tz": 240
    },
    "id": "igLdvWFl90vS"
   },
   "outputs": [],
   "source": [
    "# Unlearning dataset with all \"3\" labels randomly assigned\n",
    "unlearningdata = copy.deepcopy(traindata)\n",
    "unlearninglabels = list(range(10))\n",
    "unlearninglabels.remove(3)\n",
    "for i in range(len(unlearningdata)):\n",
    "  if unlearningdata.targets[i] == 3:\n",
    "    unlearningdata.targets[i] = random.choice(unlearninglabels)\n",
    "unlearning_train_loader = torch.utils.data.DataLoader(unlearningdata, batch_size=64, shuffle=True)"
   ]
  },
  {
   "cell_type": "code",
   "execution_count": 30,
   "metadata": {
    "colab": {
     "base_uri": "https://localhost:8080/",
     "height": 284
    },
    "colab_type": "code",
    "executionInfo": {
     "elapsed": 11701,
     "status": "ok",
     "timestamp": 1597325516551,
     "user": {
      "displayName": "Laura Graves",
      "photoUrl": "https://lh3.googleusercontent.com/a-/AOh14GiKkfAu7BQzHB05KzNcpkWJTPiliHjKSyQr1GwxRA=s64",
      "userId": "02198458421856045349"
     },
     "user_tz": 240
    },
    "id": "DOKJxAoAHcso",
    "outputId": "b9644c59-eef8-412c-c060-587cd027162a"
   },
   "outputs": [
    {
     "data": {
      "image/png": "[encoded data removed]",
      "text/plain": [
       "<Figure size 432x288 with 6 Axes>"
      ]
     },
     "metadata": {},
     "output_type": "display_data"
    }
   ],
   "source": [
    "examples = enumerate(unlearning_train_loader)\n",
    "batch_idx, (example_data, example_targets) = next(examples)\n",
    "\n",
    "fig = plt.figure()\n",
    "for i in range(6):\n",
    "  plt.subplot(2,3,i+1)\n",
    "  plt.tight_layout()\n",
    "  plt.imshow(example_data[i][0], cmap='gray', interpolation='none')\n",
    "  plt.title(\"Label: {}\".format(example_targets[i]))\n",
    "  plt.xticks([])\n",
    "  plt.yticks([])"
   ]
  },
  {
   "cell_type": "markdown",
   "metadata": {
    "colab_type": "text",
    "id": "5GHiRlkzwKnB"
   },
   "source": [
    "# Model"
   ]
  },
  {
   "cell_type": "code",
   "execution_count": 31,
   "metadata": {
    "colab": {},
    "colab_type": "code",
    "executionInfo": {
     "elapsed": 9668,
     "status": "ok",
     "timestamp": 1597325516552,
     "user": {
      "displayName": "Laura Graves",
      "photoUrl": "https://lh3.googleusercontent.com/a-/AOh14GiKkfAu7BQzHB05KzNcpkWJTPiliHjKSyQr1GwxRA=s64",
      "userId": "02198458421856045349"
     },
     "user_tz": 240
    },
    "id": "h-YvXNaj2Olp"
   },
   "outputs": [],
   "source": [
    "# Hyperparameters\n",
    "batch_size_train = 64\n",
    "batch_size_test = 64\n",
    "log_interval = 16\n",
    "num_classes = 10\n",
    "torch.backends.cudnn.enabled = True\n",
    "criterion = F.nll_loss"
   ]
  },
  {
   "cell_type": "code",
   "execution_count": 32,
   "metadata": {
    "colab": {},
    "colab_type": "code",
    "executionInfo": {
     "elapsed": 8409,
     "status": "ok",
     "timestamp": 1597325516553,
     "user": {
      "displayName": "Laura Graves",
      "photoUrl": "https://lh3.googleusercontent.com/a-/AOh14GiKkfAu7BQzHB05KzNcpkWJTPiliHjKSyQr1GwxRA=s64",
      "userId": "02198458421856045349"
     },
     "user_tz": 240
    },
    "id": "7r7pQAbYyFl7"
   },
   "outputs": [],
   "source": [
    "# Training method\n",
    "def train(model, epoch, loader, returnable=False):\n",
    "  model.train()\n",
    "  if returnable:\n",
    "    thracc = []\n",
    "    nacc = []\n",
    "    batches = []\n",
    "  for batch_idx, (data, target) in enumerate(loader):\n",
    "    optimizer.zero_grad()\n",
    "    output = model(data)\n",
    "    steps = []\n",
    "    if 3 in target:\n",
    "      before = {}\n",
    "      for param_tensor in model.state_dict():\n",
    "        if \"weight\" in param_tensor or \"bias\" in param_tensor:\n",
    "          before[param_tensor] = model.state_dict()[param_tensor].clone()\n",
    "    loss = criterion(output, target)\n",
    "    loss.backward()\n",
    "    optimizer.step()\n",
    "    if 3 in target:\n",
    "      batches.append(batch_idx)\n",
    "      after = {}\n",
    "      for param_tensor in model.state_dict():\n",
    "        if \"weight\" in param_tensor or \"bias\" in param_tensor:\n",
    "          after[param_tensor] = model.state_dict()[param_tensor].clone()\n",
    "      step = {}\n",
    "      for key in before:\n",
    "        step[key] = after[key] - before[key]\n",
    "        f = open(f\"steps/e{epoch}b{batches[-1]:04}.pkl\", \"wb\")\n",
    "        pickle.dump(step, f)\n",
    "        f.close()\n",
    "    if batch_idx % log_interval == 0:\n",
    "      print(\"\\rEpoch: {} [{:6d}]\\tLoss: {:.6f}\".format(\n",
    "          epoch, batch_idx*len(data),  loss.item()), end=\"\")\n",
    "    if returnable and batch_idx % 10 == 0:\n",
    "      thracc.append(test(model, three_test_loader, dname=\"Threes only\", printable=False))\n",
    "      if batch_idx % 10 == 0:\n",
    "        nacc.append(test(model, nonthree_test_loader, dname=\"nonthree only\", printable=False))\n",
    "      model.train()\n",
    "  if returnable:\n",
    "    return thracc, nacc, batches, steps"
   ]
  },
  {
   "cell_type": "code",
   "execution_count": 33,
   "metadata": {
    "colab": {},
    "colab_type": "code",
    "executionInfo": {
     "elapsed": 6641,
     "status": "ok",
     "timestamp": 1597325516554,
     "user": {
      "displayName": "Laura Graves",
      "photoUrl": "https://lh3.googleusercontent.com/a-/AOh14GiKkfAu7BQzHB05KzNcpkWJTPiliHjKSyQr1GwxRA=s64",
      "userId": "02198458421856045349"
     },
     "user_tz": 240
    },
    "id": "Y10g3tLd0zTs"
   },
   "outputs": [],
   "source": [
    "# Testing method\n",
    "def test(model, loader, dname=\"Test set\", printable=True):\n",
    "  model.eval()\n",
    "  test_loss = 0\n",
    "  total = 0\n",
    "  correct = 0\n",
    "  with torch.no_grad():\n",
    "    for data, target in loader:\n",
    "      output = model(data)\n",
    "      total += target.size()[0]\n",
    "      test_loss += criterion(output, target).item()\n",
    "      pred = output.data.max(1, keepdim=True)[1]\n",
    "      correct += pred.eq(target.data.view_as(pred)).sum()\n",
    "  test_loss /= len(loader.dataset)\n",
    "  if printable:\n",
    "    print('{}: Mean loss: {:.4f}, Accuracy: {}/{} ({:.0f}%)'.format(\n",
    "        dname, test_loss, correct, total, \n",
    "        100. * correct / total\n",
    "        ))\n",
    "  return 1. * correct / total"
   ]
  },
  {
   "cell_type": "markdown",
   "metadata": {
    "colab_type": "text",
    "id": "GCwJjVyt_Zxz"
   },
   "source": [
    "# Original Training"
   ]
  },
  {
   "cell_type": "code",
   "execution_count": 34,
   "metadata": {
    "colab": {},
    "colab_type": "code",
    "executionInfo": {
     "elapsed": 322,
     "status": "ok",
     "timestamp": 1597325557476,
     "user": {
      "displayName": "Laura Graves",
      "photoUrl": "https://lh3.googleusercontent.com/a-/AOh14GiKkfAu7BQzHB05KzNcpkWJTPiliHjKSyQr1GwxRA=s64",
      "userId": "02198458421856045349"
     },
     "user_tz": 240
    },
    "id": "w8mU7BQnBVZN"
   },
   "outputs": [],
   "source": [
    "trainingepochs = 10\n",
    "forgetfulepochs = 10\n",
    "naive_accuracy_three = []\n",
    "naive_accuracy_nonthree = []"
   ]
  },
  {
   "cell_type": "code",
   "execution_count": 35,
   "metadata": {
    "colab": {},
    "colab_type": "code",
    "executionInfo": {
     "elapsed": 515,
     "status": "ok",
     "timestamp": 1597325559160,
     "user": {
      "displayName": "Laura Graves",
      "photoUrl": "https://lh3.googleusercontent.com/a-/AOh14GiKkfAu7BQzHB05KzNcpkWJTPiliHjKSyQr1GwxRA=s64",
      "userId": "02198458421856045349"
     },
     "user_tz": 240
    },
    "id": "Qsn4ZDQKY5yy"
   },
   "outputs": [],
   "source": [
    "# load resnet 18 and change to fit problem dimensionality\n",
    "resnet = models.resnet18()\n",
    "resnet.conv1 = nn.Conv2d(1, 64, kernel_size=(7,7), stride=(2,2), padding=(3,3), bias=False)\n",
    "resnet.fc = nn.Sequential(nn.Linear(512, num_classes), nn.LogSoftmax(dim=1))\n",
    "optimizer = optim.Adam(resnet.parameters())"
   ]
  },
  {
   "cell_type": "code",
   "execution_count": null,
   "metadata": {
    "colab": {
     "base_uri": "https://localhost:8080/",
     "height": 451
    },
    "colab_type": "code",
    "executionInfo": {
     "elapsed": 3178778,
     "status": "ok",
     "timestamp": 1597328738936,
     "user": {
      "displayName": "Laura Graves",
      "photoUrl": "https://lh3.googleusercontent.com/a-/AOh14GiKkfAu7BQzHB05KzNcpkWJTPiliHjKSyQr1GwxRA=s64",
      "userId": "02198458421856045349"
     },
     "user_tz": 240
    },
    "id": "hqJ4gRHp1tZc",
    "outputId": "e9607831-5704-4a84-9416-5c7fecbdd726"
   },
   "outputs": [
    {
     "name": "stdout",
     "output_type": "stream",
     "text": [
      "Epoch: 1 [ 53248]\tLoss: 0.046687[23, 33, 35, 38, 40, 76, 110, 130, 132, 140, 158, 170, 172, 173, 176, 178, 186, 194, 207, 217, 234, 242, 247, 255, 262, 264, 271, 282, 318, 324, 328, 338, 341, 342, 349, 359, 379, 385, 386, 388, 403, 413, 431, 434, 443, 450, 452, 463, 464, 473, 487, 492, 497, 498, 499, 500, 503, 504, 512, 516, 526, 530, 544, 566, 572, 585, 594, 599, 614, 624, 629, 630, 633, 636, 637, 639, 663, 665, 667, 668, 672, 675, 688, 713, 726, 731, 732, 748, 765, 786, 787, 804, 829, 830, 836] batches effected\n",
      "All data: Mean loss: 0.0018, Accuracy: 9659/10000 (97%)\n",
      "Threes  : Mean loss: 0.0010, Accuracy: 828/1010 (82%)\n",
      "Nonthree: Mean loss: 0.0008, Accuracy: 8831/8990 (98%)\n",
      "Time taken: 1552.9131861160001\n",
      "Epoch: 2 [ 53248]\tLoss: 0.017576[7, 8, 19, 37, 60, 66, 67, 68, 74, 84, 91, 94, 101, 106, 107, 111, 121, 128, 129, 135, 163, 166, 178, 188, 189, 192, 197, 206, 217, 224, 238, 241, 242, 246, 257, 261, 262, 274, 275, 281, 303, 315, 324, 329, 330, 333, 341, 348, 385, 401, 412, 414, 423, 448, 463, 468, 482, 484, 502, 511, 517, 530, 531, 549, 583, 586, 597, 603, 615, 621, 626, 628, 632, 636, 637, 652, 659, 660, 664, 697, 712, 721, 724, 731, 740, 741, 759, 765, 781, 782, 801, 811, 833, 837] batches effected\n",
      "All data: Mean loss: 0.0017, Accuracy: 9674/10000 (97%)\n",
      "Threes  : Mean loss: 0.0009, Accuracy: 841/1010 (83%)\n",
      "Nonthree: Mean loss: 0.0008, Accuracy: 8833/8990 (98%)\n",
      "Time taken: 1552.8542067829999\n",
      "Epoch: 3 [ 53248]\tLoss: 0.183248[0, 5, 8, 9, 16, 19, 27, 31, 32, 38, 50, 52, 54, 63, 74, 76, 79, 84, 87, 99, 147, 157, 159, 163, 167, 184, 195, 220, 241, 245, 248, 259, 267, 272, 274, 280, 304, 309, 321, 326, 333, 338, 342, 352, 353, 354, 363, 365, 373, 383, 403, 407, 458, 466, 473, 494, 497, 500, 509, 519, 526, 527, 528, 529, 533, 535, 537, 555, 560, 620, 622, 626, 640, 645, 653, 655, 656, 666, 681, 683, 687, 695, 696, 705, 721, 730, 736, 738, 751, 752, 753, 757, 769, 774, 795, 812, 817, 837] batches effected\n",
      "All data: Mean loss: 0.0016, Accuracy: 9735/10000 (97%)\n",
      "Threes  : Mean loss: 0.0010, Accuracy: 860/1010 (85%)\n",
      "Nonthree: Mean loss: 0.0006, Accuracy: 8875/8990 (99%)\n",
      "Time taken: 1563.0033972689998\n",
      "Epoch: 4 [ 30720]\tLoss: 0.058620"
     ]
    }
   ],
   "source": [
    "# Train new model for 5 epochs\n",
    "steps = []\n",
    "for epoch in range(1, trainingepochs+1):\n",
    "  starttime = time.process_time()\n",
    "  # train(resnet, epoch, all_data_train_loader, returnable=False)\n",
    "  thracc, nacc, three_batches, three_steps = train(resnet, epoch, three_train_loader, returnable=True)\n",
    "  naive_accuracy_three += thracc\n",
    "  naive_accuracy_nonthree += nacc\n",
    "  steps = steps + three_steps\n",
    "  print(f\"{three_batches} batches effected\")\n",
    "  test(resnet, all_data_test_loader, dname=\"All data\")\n",
    "  test(resnet, three_test_loader, dname=\"Threes  \")\n",
    "  test(resnet, nonthree_test_loader, dname=\"Nonthree\")\n",
    "  print(f\"Time taken: {time.process_time() - starttime}\")\n",
    "  path = F\"resnet/selective_trained_e{epoch}.pt\"\n",
    "  torch.save({\n",
    "            'model_state_dict': resnet.state_dict(),\n",
    "            'optimizer_state_dict': optimizer.state_dict(),\n",
    "            }, path)\n",
    "  path = F\"resnet/selective_trained_accuracy_three_e{epoch}.txt\"\n",
    "  with open(path, 'w') as f:\n",
    "    for data in naive_accuracy_three:\n",
    "      f.write(f\"{data},\")\n",
    "  path = F\"resnet/selective_trained_accuracy_nonthree_e{epoch}.txt\"\n",
    "  with open(path, 'w') as f:\n",
    "    for data in naive_accuracy_nonthree:\n",
    "      f.write(f\"{data},\")"
   ]
  },
  {
   "cell_type": "code",
   "execution_count": 33,
   "metadata": {
    "colab": {},
    "colab_type": "code",
    "executionInfo": {
     "elapsed": 3360,
     "status": "ok",
     "timestamp": 1597328742313,
     "user": {
      "displayName": "Laura Graves",
      "photoUrl": "https://lh3.googleusercontent.com/a-/AOh14GiKkfAu7BQzHB05KzNcpkWJTPiliHjKSyQr1GwxRA=s64",
      "userId": "02198458421856045349"
     },
     "user_tz": 240
    },
    "id": "sSoTQ-Oi_jKu"
   },
   "outputs": [],
   "source": [
    "path = F\"resnet/selective_trained.pt\"\n",
    "torch.save({\n",
    "            'model_state_dict': resnet.state_dict(),\n",
    "            'optimizer_state_dict': optimizer.state_dict(),\n",
    "            }, path)"
   ]
  },
  {
   "cell_type": "code",
   "execution_count": 31,
   "metadata": {
    "colab": {},
    "colab_type": "code",
    "executionInfo": {
     "elapsed": 3355,
     "status": "ok",
     "timestamp": 1597328742313,
     "user": {
      "displayName": "Laura Graves",
      "photoUrl": "https://lh3.googleusercontent.com/a-/AOh14GiKkfAu7BQzHB05KzNcpkWJTPiliHjKSyQr1GwxRA=s64",
      "userId": "02198458421856045349"
     },
     "user_tz": 240
    },
    "id": "FLTmUxvbJvmG"
   },
   "outputs": [],
   "source": [
    "path = F\"resnet/selective_trained_accuracy_three.txt\"\n",
    "with open(path, 'w') as f:\n",
    "  for data in naive_accuracy_three:\n",
    "    f.write(f\"{data},\")"
   ]
  },
  {
   "cell_type": "code",
   "execution_count": 32,
   "metadata": {
    "colab": {},
    "colab_type": "code",
    "executionInfo": {
     "elapsed": 3353,
     "status": "ok",
     "timestamp": 1597328742315,
     "user": {
      "displayName": "Laura Graves",
      "photoUrl": "https://lh3.googleusercontent.com/a-/AOh14GiKkfAu7BQzHB05KzNcpkWJTPiliHjKSyQr1GwxRA=s64",
      "userId": "02198458421856045349"
     },
     "user_tz": 240
    },
    "id": "3eKKvB-pJwSX"
   },
   "outputs": [],
   "source": [
    "path = F\"resnet/selective_trained_accuracy_nonthree.txt\"\n",
    "with open(path, 'w') as f:\n",
    "  for data in naive_accuracy_nonthree:\n",
    "    f.write(f\"{data},\")"
   ]
  },
  {
   "cell_type": "code",
   "execution_count": 49,
   "metadata": {},
   "outputs": [],
   "source": [
    "path = F\"resnet/selective_trained.pt\"\n",
    "checkpoint = torch.load(path)\n",
    "resnet.load_state_dict(checkpoint['model_state_dict'])\n",
    "optimizer.load_state_dict(checkpoint['optimizer_state_dict'])"
   ]
  },
  {
   "cell_type": "code",
   "execution_count": 50,
   "metadata": {},
   "outputs": [
    {
     "name": "stdout",
     "output_type": "stream",
     "text": [
      "Loading steps/e10b0836.pkl"
     ]
    }
   ],
   "source": [
    "for i in range(1, trainingepochs+1):\n",
    "    for j in range(1600):\n",
    "        path = f\"steps/e{i}b{j:04}.pkl\"\n",
    "        try:\n",
    "#             print(\"before\")\n",
    "            f = open(path, \"rb\")\n",
    "            steps = pickle.load(f)\n",
    "            f.close()\n",
    "            print(f\"\\rLoading steps/e{i}b{j:04}.pkl\", end=\"\")\n",
    "            const = 1\n",
    "            with torch.no_grad():\n",
    "                state = resnet.state_dict()\n",
    "                for param_tensor in state:\n",
    "                    if \"weight\" in param_tensor or \"bias\" in param_tensor:\n",
    "                      state[param_tensor] = state[param_tensor] - const*steps[param_tensor]\n",
    "            resnet.load_state_dict(state)\n",
    "        except:\n",
    "#             print(f\"\\r{i},{j}\", end=\"\")\n",
    "            pass"
   ]
  },
  {
   "cell_type": "code",
   "execution_count": 51,
   "metadata": {},
   "outputs": [
    {
     "name": "stdout",
     "output_type": "stream",
     "text": [
      "All data: Mean loss: 0.0180, Accuracy: 8561/10000 (86%)\n",
      "Threes  : Mean loss: 0.0161, Accuracy: 0/1010 (0%)\n",
      "Nonthree: Mean loss: 0.0021, Accuracy: 8561/8990 (95%)\n"
     ]
    },
    {
     "data": {
      "text/plain": [
       "tensor(0.952)"
      ]
     },
     "execution_count": 51,
     "metadata": {},
     "output_type": "execute_result"
    }
   ],
   "source": [
    "test(resnet, all_data_test_loader, dname=\"All data\")\n",
    "test(resnet, three_test_loader, dname=\"Threes  \")\n",
    "test(resnet, nonthree_test_loader, dname=\"Nonthree\")"
   ]
  },
  {
   "cell_type": "code",
   "execution_count": 52,
   "metadata": {},
   "outputs": [],
   "source": [
    "path = F\"resnet/selective_post_trained.pt\"\n",
    "torch.save({\n",
    "            'model_state_dict': resnet.state_dict(),\n",
    "            'optimizer_state_dict': optimizer.state_dict(),\n",
    "            }, path)"
   ]
  },
  {
   "cell_type": "code",
   "execution_count": 55,
   "metadata": {},
   "outputs": [],
   "source": [
    "path = F\"resnet/selective_post_trained.pt\"\n",
    "checkpoint = torch.load(path)\n",
    "resnet.load_state_dict(checkpoint['model_state_dict'])\n",
    "optimizer.load_state_dict(checkpoint['optimizer_state_dict'])"
   ]
  },
  {
   "cell_type": "code",
   "execution_count": 56,
   "metadata": {},
   "outputs": [],
   "source": [
    "selective_post_accuracy_three = []\n",
    "selective_post_accuracy_nonthree =[]"
   ]
  },
  {
   "cell_type": "code",
   "execution_count": 57,
   "metadata": {},
   "outputs": [
    {
     "name": "stdout",
     "output_type": "stream",
     "text": [
      "Epoch: 11 [ 53248]\tLoss: 0.028601All data: Mean loss: 0.0195, Accuracy: 8889/10000 (89%)\n",
      "Threes  : Mean loss: 0.0192, Accuracy: 0/1010 (0%)\n",
      "Nonthree: Mean loss: 0.0006, Accuracy: 8889/8990 (99%)\n",
      "Epoch: 12 [ 53248]\tLoss: 0.000218All data: Mean loss: 0.0148, Accuracy: 8932/10000 (89%)\n",
      "Threes  : Mean loss: 0.0147, Accuracy: 0/1010 (0%)\n",
      "Nonthree: Mean loss: 0.0003, Accuracy: 8932/8990 (99%)\n",
      "Epoch: 13 [ 53248]\tLoss: 0.010948All data: Mean loss: 0.0148, Accuracy: 8919/10000 (89%)\n",
      "Threes  : Mean loss: 0.0146, Accuracy: 0/1010 (0%)\n",
      "Nonthree: Mean loss: 0.0004, Accuracy: 8919/8990 (99%)\n",
      "Epoch: 14 [ 53248]\tLoss: 0.025392All data: Mean loss: 0.0131, Accuracy: 8929/10000 (89%)\n",
      "Threes  : Mean loss: 0.0130, Accuracy: 0/1010 (0%)\n",
      "Nonthree: Mean loss: 0.0004, Accuracy: 8929/8990 (99%)\n",
      "Epoch: 15 [ 53248]\tLoss: 0.004198All data: Mean loss: 0.0138, Accuracy: 8932/10000 (89%)\n",
      "Threes  : Mean loss: 0.0136, Accuracy: 0/1010 (0%)\n",
      "Nonthree: Mean loss: 0.0004, Accuracy: 8932/8990 (99%)\n",
      "Epoch: 16 [ 53248]\tLoss: 0.003190All data: Mean loss: 0.0135, Accuracy: 8924/10000 (89%)\n",
      "Threes  : Mean loss: 0.0133, Accuracy: 0/1010 (0%)\n",
      "Nonthree: Mean loss: 0.0004, Accuracy: 8924/8990 (99%)\n",
      "Epoch: 17 [ 53248]\tLoss: 0.000070All data: Mean loss: 0.0202, Accuracy: 8932/10000 (89%)\n",
      "Threes  : Mean loss: 0.0199, Accuracy: 0/1010 (0%)\n",
      "Nonthree: Mean loss: 0.0004, Accuracy: 8932/8990 (99%)\n",
      "Epoch: 18 [ 53248]\tLoss: 0.001898All data: Mean loss: 0.0130, Accuracy: 8940/10000 (89%)\n",
      "Threes  : Mean loss: 0.0127, Accuracy: 0/1010 (0%)\n",
      "Nonthree: Mean loss: 0.0003, Accuracy: 8940/8990 (99%)\n",
      "Epoch: 19 [ 53248]\tLoss: 0.000056All data: Mean loss: 0.0184, Accuracy: 8942/10000 (89%)\n",
      "Threes  : Mean loss: 0.0181, Accuracy: 0/1010 (0%)\n",
      "Nonthree: Mean loss: 0.0003, Accuracy: 8942/8990 (99%)\n",
      "Epoch: 20 [ 53248]\tLoss: 0.000092All data: Mean loss: 0.0173, Accuracy: 8931/10000 (89%)\n",
      "Threes  : Mean loss: 0.0170, Accuracy: 0/1010 (0%)\n",
      "Nonthree: Mean loss: 0.0004, Accuracy: 8931/8990 (99%)\n"
     ]
    }
   ],
   "source": [
    "# Train model for 10 epochs\n",
    "for epoch in range(trainingepochs+1,trainingepochs+forgetfulepochs+1):\n",
    "  # train(resnet, epoch, nonthree_train_loader, returnable=False)\n",
    "  thracc, nacc, _, _ = train(resnet, epoch, nonthree_train_loader, returnable=True)\n",
    "  selective_post_accuracy_three += thracc\n",
    "  selective_post_accuracy_nonthree += nacc\n",
    "  test(resnet, all_data_test_loader, dname=\"All data\")\n",
    "  test(resnet, three_test_loader, dname=\"Threes  \")\n",
    "  test(resnet, nonthree_test_loader, dname=\"Nonthree\")\n",
    "  path = F\"resnet/selective-post-epoch-{epoch}.pt\"\n",
    "  torch.save({ \n",
    "            'model_state_dict': resnet.state_dict(),\n",
    "            'optimizer_state_dict': optimizer.state_dict(),\n",
    "            }, path)\n",
    "  path = F\"resnet/selective_post_accuracy_three_e{epoch}.txt\"\n",
    "  with open(path, 'w') as f:\n",
    "    for data in naive_accuracy_three:\n",
    "      f.write(f\"{data},\")\n",
    "  path = F\"resnet/selective_post_accuracy_nonthree_e{epoch}.txt\"\n",
    "  with open(path, 'w') as f:\n",
    "    for data in naive_accuracy_nonthree:\n",
    "      f.write(f\"{data},\")"
   ]
  },
  {
   "cell_type": "code",
   "execution_count": 58,
   "metadata": {},
   "outputs": [],
   "source": [
    "path = F\"resnet/selective_post_accuracy_three.txt\"\n",
    "with open(path, 'w') as f:\n",
    "  for data in selective_post_accuracy_three:\n",
    "    f.write(f\"{data},\")"
   ]
  },
  {
   "cell_type": "code",
   "execution_count": 59,
   "metadata": {},
   "outputs": [],
   "source": [
    "path = F\"resnet/selective_post_accuracy_nonthree.txt\"\n",
    "with open(path, 'w') as f:\n",
    "  for data in selective_post_accuracy_nonthree:\n",
    "    f.write(f\"{data},\")"
   ]
  },
  {
   "cell_type": "code",
   "execution_count": null,
   "metadata": {},
   "outputs": [],
   "source": []
  }
 ],
 "metadata": {
  "accelerator": "GPU",
  "colab": {
   "collapsed_sections": [
    "KwC4bhnrgf9G"
   ],
   "machine_shape": "hm",
   "name": "Unlearning Model Inversion - resnet18.ipynb",
   "provenance": [
    {
     "file_id": "1aV7FG_EMmhJuinBhU4DduYVZQJD6XRai",
     "timestamp": 1597065873226
    },
    {
     "file_id": "1DAYnyM3fRyey917NpKUFLffABPi2O_b2",
     "timestamp": 1587398961607
    },
    {
     "file_id": "1KNf7zLGtO-RttM-G245CSk99wGsO_mpj",
     "timestamp": 1573223459394
    }
   ],
   "toc_visible": true
  },
  "kernelspec": {
   "display_name": "Python 3 (PyTorch GPU Optimized)",
   "language": "python",
   "name": "python3__SAGEMAKER_INTERNAL__arn:aws:sagemaker:us-east-2:429704687514:image/pytorch-1.4-gpu-py36"
  },
  "language_info": {
   "codemirror_mode": {
    "name": "ipython",
    "version": 3
   },
   "file_extension": ".py",
   "mimetype": "text/x-python",
   "name": "python",
   "nbconvert_exporter": "python",
   "pygments_lexer": "ipython3",
   "version": "3.6.6"
  },
  "widgets": {
   "application/vnd.jupyter.widget-state+json": {
    "04fa014b4b174774b2051e6e9491fe09": {
     "model_module": "@jupyter-widgets/base",
     "model_name": "LayoutModel",
     "state": {
      "_model_module": "@jupyter-widgets/base",
      "_model_module_version": "1.2.0",
      "_model_name": "LayoutModel",
      "_view_count": null,
      "_view_module": "@jupyter-widgets/base",
      "_view_module_version": "1.2.0",
      "_view_name": "LayoutView",
      "align_content": null,
      "align_items": null,
      "align_self": null,
      "border": null,
      "bottom": null,
      "display": null,
      "flex": null,
      "flex_flow": null,
      "grid_area": null,
      "grid_auto_columns": null,
      "grid_auto_flow": null,
      "grid_auto_rows": null,
      "grid_column": null,
      "grid_gap": null,
      "grid_row": null,
      "grid_template_areas": null,
      "grid_template_columns": null,
      "grid_template_rows": null,
      "height": null,
      "justify_content": null,
      "justify_items": null,
      "left": null,
      "margin": null,
      "max_height": null,
      "max_width": null,
      "min_height": null,
      "min_width": null,
      "object_fit": null,
      "object_position": null,
      "order": null,
      "overflow": null,
      "overflow_x": null,
      "overflow_y": null,
      "padding": null,
      "right": null,
      "top": null,
      "visibility": null,
      "width": null
     }
    },
    "06a73fae4ed0415b85d31ae2fd7ef4b6": {
     "model_module": "@jupyter-widgets/controls",
     "model_name": "ProgressStyleModel",
     "state": {
      "_model_module": "@jupyter-widgets/controls",
      "_model_module_version": "1.5.0",
      "_model_name": "ProgressStyleModel",
      "_view_count": null,
      "_view_module": "@jupyter-widgets/base",
      "_view_module_version": "1.2.0",
      "_view_name": "StyleView",
      "bar_color": null,
      "description_width": "initial"
     }
    },
    "08dddba55de24a49bf9c84f2cedbba00": {
     "model_module": "@jupyter-widgets/controls",
     "model_name": "FloatProgressModel",
     "state": {
      "_dom_classes": [],
      "_model_module": "@jupyter-widgets/controls",
      "_model_module_version": "1.5.0",
      "_model_name": "FloatProgressModel",
      "_view_count": null,
      "_view_module": "@jupyter-widgets/controls",
      "_view_module_version": "1.5.0",
      "_view_name": "ProgressView",
      "bar_style": "success",
      "description": "",
      "description_tooltip": null,
      "layout": "IPY_MODEL_f4b73c98de9349a09b2275cf2f1ad005",
      "max": 1,
      "min": 0,
      "orientation": "horizontal",
      "style": "IPY_MODEL_4b03eb022f1d445abdc9cc4379238478",
      "value": 1
     }
    },
    "090474d95f1d48d3aecc44f785c57ca2": {
     "model_module": "@jupyter-widgets/controls",
     "model_name": "HTMLModel",
     "state": {
      "_dom_classes": [],
      "_model_module": "@jupyter-widgets/controls",
      "_model_module_version": "1.5.0",
      "_model_name": "HTMLModel",
      "_view_count": null,
      "_view_module": "@jupyter-widgets/controls",
      "_view_module_version": "1.5.0",
      "_view_name": "HTMLView",
      "description": "",
      "description_tooltip": null,
      "layout": "IPY_MODEL_79522c5c11fd455895f6def40115c1b1",
      "placeholder": "​",
      "style": "IPY_MODEL_72ee481e0e90406baf0bf2722f026b8a",
      "value": " 1654784/? [00:00&lt;00:00, 3158962.54it/s]"
     }
    },
    "156b1c5c87534d6a97220dc9177a59df": {
     "model_module": "@jupyter-widgets/base",
     "model_name": "LayoutModel",
     "state": {
      "_model_module": "@jupyter-widgets/base",
      "_model_module_version": "1.2.0",
      "_model_name": "LayoutModel",
      "_view_count": null,
      "_view_module": "@jupyter-widgets/base",
      "_view_module_version": "1.2.0",
      "_view_name": "LayoutView",
      "align_content": null,
      "align_items": null,
      "align_self": null,
      "border": null,
      "bottom": null,
      "display": null,
      "flex": null,
      "flex_flow": null,
      "grid_area": null,
      "grid_auto_columns": null,
      "grid_auto_flow": null,
      "grid_auto_rows": null,
      "grid_column": null,
      "grid_gap": null,
      "grid_row": null,
      "grid_template_areas": null,
      "grid_template_columns": null,
      "grid_template_rows": null,
      "height": null,
      "justify_content": null,
      "justify_items": null,
      "left": null,
      "margin": null,
      "max_height": null,
      "max_width": null,
      "min_height": null,
      "min_width": null,
      "object_fit": null,
      "object_position": null,
      "order": null,
      "overflow": null,
      "overflow_x": null,
      "overflow_y": null,
      "padding": null,
      "right": null,
      "top": null,
      "visibility": null,
      "width": null
     }
    },
    "35c84a4ed1ba4870b1336e006c33e767": {
     "model_module": "@jupyter-widgets/base",
     "model_name": "LayoutModel",
     "state": {
      "_model_module": "@jupyter-widgets/base",
      "_model_module_version": "1.2.0",
      "_model_name": "LayoutModel",
      "_view_count": null,
      "_view_module": "@jupyter-widgets/base",
      "_view_module_version": "1.2.0",
      "_view_name": "LayoutView",
      "align_content": null,
      "align_items": null,
      "align_self": null,
      "border": null,
      "bottom": null,
      "display": null,
      "flex": null,
      "flex_flow": null,
      "grid_area": null,
      "grid_auto_columns": null,
      "grid_auto_flow": null,
      "grid_auto_rows": null,
      "grid_column": null,
      "grid_gap": null,
      "grid_row": null,
      "grid_template_areas": null,
      "grid_template_columns": null,
      "grid_template_rows": null,
      "height": null,
      "justify_content": null,
      "justify_items": null,
      "left": null,
      "margin": null,
      "max_height": null,
      "max_width": null,
      "min_height": null,
      "min_width": null,
      "object_fit": null,
      "object_position": null,
      "order": null,
      "overflow": null,
      "overflow_x": null,
      "overflow_y": null,
      "padding": null,
      "right": null,
      "top": null,
      "visibility": null,
      "width": null
     }
    },
    "3b9265b3099846aabd75858c3bb5f5df": {
     "model_module": "@jupyter-widgets/controls",
     "model_name": "ProgressStyleModel",
     "state": {
      "_model_module": "@jupyter-widgets/controls",
      "_model_module_version": "1.5.0",
      "_model_name": "ProgressStyleModel",
      "_view_count": null,
      "_view_module": "@jupyter-widgets/base",
      "_view_module_version": "1.2.0",
      "_view_name": "StyleView",
      "bar_color": null,
      "description_width": "initial"
     }
    },
    "3d9642bfafc541a88affbf65e89700fd": {
     "model_module": "@jupyter-widgets/controls",
     "model_name": "DescriptionStyleModel",
     "state": {
      "_model_module": "@jupyter-widgets/controls",
      "_model_module_version": "1.5.0",
      "_model_name": "DescriptionStyleModel",
      "_view_count": null,
      "_view_module": "@jupyter-widgets/base",
      "_view_module_version": "1.2.0",
      "_view_name": "StyleView",
      "description_width": ""
     }
    },
    "46066bea204a4bbe830528b5de0c8372": {
     "model_module": "@jupyter-widgets/controls",
     "model_name": "HBoxModel",
     "state": {
      "_dom_classes": [],
      "_model_module": "@jupyter-widgets/controls",
      "_model_module_version": "1.5.0",
      "_model_name": "HBoxModel",
      "_view_count": null,
      "_view_module": "@jupyter-widgets/controls",
      "_view_module_version": "1.5.0",
      "_view_name": "HBoxView",
      "box_style": "",
      "children": [
       "IPY_MODEL_ee278e96efb140cd8720739850c7567f",
       "IPY_MODEL_71cb68dc80304efda622d5b0292667fb"
      ],
      "layout": "IPY_MODEL_b05a86270f424627bf697b84cb880d3b"
     }
    },
    "4b03eb022f1d445abdc9cc4379238478": {
     "model_module": "@jupyter-widgets/controls",
     "model_name": "ProgressStyleModel",
     "state": {
      "_model_module": "@jupyter-widgets/controls",
      "_model_module_version": "1.5.0",
      "_model_name": "ProgressStyleModel",
      "_view_count": null,
      "_view_module": "@jupyter-widgets/base",
      "_view_module_version": "1.2.0",
      "_view_name": "StyleView",
      "bar_color": null,
      "description_width": "initial"
     }
    },
    "5a222c004e144a9a89806b32517d1abe": {
     "model_module": "@jupyter-widgets/controls",
     "model_name": "FloatProgressModel",
     "state": {
      "_dom_classes": [],
      "_model_module": "@jupyter-widgets/controls",
      "_model_module_version": "1.5.0",
      "_model_name": "FloatProgressModel",
      "_view_count": null,
      "_view_module": "@jupyter-widgets/controls",
      "_view_module_version": "1.5.0",
      "_view_name": "ProgressView",
      "bar_style": "success",
      "description": "",
      "description_tooltip": null,
      "layout": "IPY_MODEL_a271a8b73de64d328aae4b7f5be56de6",
      "max": 1,
      "min": 0,
      "orientation": "horizontal",
      "style": "IPY_MODEL_be4bf227a70547f8a6718540b82c65a8",
      "value": 1
     }
    },
    "5dca13cc37aa42769c223bb2198592dc": {
     "model_module": "@jupyter-widgets/controls",
     "model_name": "DescriptionStyleModel",
     "state": {
      "_model_module": "@jupyter-widgets/controls",
      "_model_module_version": "1.5.0",
      "_model_name": "DescriptionStyleModel",
      "_view_count": null,
      "_view_module": "@jupyter-widgets/base",
      "_view_module_version": "1.2.0",
      "_view_name": "StyleView",
      "description_width": ""
     }
    },
    "71cb68dc80304efda622d5b0292667fb": {
     "model_module": "@jupyter-widgets/controls",
     "model_name": "HTMLModel",
     "state": {
      "_dom_classes": [],
      "_model_module": "@jupyter-widgets/controls",
      "_model_module_version": "1.5.0",
      "_model_name": "HTMLModel",
      "_view_count": null,
      "_view_module": "@jupyter-widgets/controls",
      "_view_module_version": "1.5.0",
      "_view_name": "HTMLView",
      "description": "",
      "description_tooltip": null,
      "layout": "IPY_MODEL_c538440ed4804e68beebf63eab85c61b",
      "placeholder": "​",
      "style": "IPY_MODEL_fd7f85df549c48b0b243f60fd4cb5b0f",
      "value": " 9920512/? [00:01&lt;00:00, 6982551.05it/s]"
     }
    },
    "72ee481e0e90406baf0bf2722f026b8a": {
     "model_module": "@jupyter-widgets/controls",
     "model_name": "DescriptionStyleModel",
     "state": {
      "_model_module": "@jupyter-widgets/controls",
      "_model_module_version": "1.5.0",
      "_model_name": "DescriptionStyleModel",
      "_view_count": null,
      "_view_module": "@jupyter-widgets/base",
      "_view_module_version": "1.2.0",
      "_view_name": "StyleView",
      "description_width": ""
     }
    },
    "790abeec3d4241c1b4bc1e69086308dc": {
     "model_module": "@jupyter-widgets/base",
     "model_name": "LayoutModel",
     "state": {
      "_model_module": "@jupyter-widgets/base",
      "_model_module_version": "1.2.0",
      "_model_name": "LayoutModel",
      "_view_count": null,
      "_view_module": "@jupyter-widgets/base",
      "_view_module_version": "1.2.0",
      "_view_name": "LayoutView",
      "align_content": null,
      "align_items": null,
      "align_self": null,
      "border": null,
      "bottom": null,
      "display": null,
      "flex": null,
      "flex_flow": null,
      "grid_area": null,
      "grid_auto_columns": null,
      "grid_auto_flow": null,
      "grid_auto_rows": null,
      "grid_column": null,
      "grid_gap": null,
      "grid_row": null,
      "grid_template_areas": null,
      "grid_template_columns": null,
      "grid_template_rows": null,
      "height": null,
      "justify_content": null,
      "justify_items": null,
      "left": null,
      "margin": null,
      "max_height": null,
      "max_width": null,
      "min_height": null,
      "min_width": null,
      "object_fit": null,
      "object_position": null,
      "order": null,
      "overflow": null,
      "overflow_x": null,
      "overflow_y": null,
      "padding": null,
      "right": null,
      "top": null,
      "visibility": null,
      "width": null
     }
    },
    "79522c5c11fd455895f6def40115c1b1": {
     "model_module": "@jupyter-widgets/base",
     "model_name": "LayoutModel",
     "state": {
      "_model_module": "@jupyter-widgets/base",
      "_model_module_version": "1.2.0",
      "_model_name": "LayoutModel",
      "_view_count": null,
      "_view_module": "@jupyter-widgets/base",
      "_view_module_version": "1.2.0",
      "_view_name": "LayoutView",
      "align_content": null,
      "align_items": null,
      "align_self": null,
      "border": null,
      "bottom": null,
      "display": null,
      "flex": null,
      "flex_flow": null,
      "grid_area": null,
      "grid_auto_columns": null,
      "grid_auto_flow": null,
      "grid_auto_rows": null,
      "grid_column": null,
      "grid_gap": null,
      "grid_row": null,
      "grid_template_areas": null,
      "grid_template_columns": null,
      "grid_template_rows": null,
      "height": null,
      "justify_content": null,
      "justify_items": null,
      "left": null,
      "margin": null,
      "max_height": null,
      "max_width": null,
      "min_height": null,
      "min_width": null,
      "object_fit": null,
      "object_position": null,
      "order": null,
      "overflow": null,
      "overflow_x": null,
      "overflow_y": null,
      "padding": null,
      "right": null,
      "top": null,
      "visibility": null,
      "width": null
     }
    },
    "987ffacff90040d5b07a2f462c42ab5f": {
     "model_module": "@jupyter-widgets/base",
     "model_name": "LayoutModel",
     "state": {
      "_model_module": "@jupyter-widgets/base",
      "_model_module_version": "1.2.0",
      "_model_name": "LayoutModel",
      "_view_count": null,
      "_view_module": "@jupyter-widgets/base",
      "_view_module_version": "1.2.0",
      "_view_name": "LayoutView",
      "align_content": null,
      "align_items": null,
      "align_self": null,
      "border": null,
      "bottom": null,
      "display": null,
      "flex": null,
      "flex_flow": null,
      "grid_area": null,
      "grid_auto_columns": null,
      "grid_auto_flow": null,
      "grid_auto_rows": null,
      "grid_column": null,
      "grid_gap": null,
      "grid_row": null,
      "grid_template_areas": null,
      "grid_template_columns": null,
      "grid_template_rows": null,
      "height": null,
      "justify_content": null,
      "justify_items": null,
      "left": null,
      "margin": null,
      "max_height": null,
      "max_width": null,
      "min_height": null,
      "min_width": null,
      "object_fit": null,
      "object_position": null,
      "order": null,
      "overflow": null,
      "overflow_x": null,
      "overflow_y": null,
      "padding": null,
      "right": null,
      "top": null,
      "visibility": null,
      "width": null
     }
    },
    "9967f6c34acb4814b361004d2b75a075": {
     "model_module": "@jupyter-widgets/controls",
     "model_name": "HBoxModel",
     "state": {
      "_dom_classes": [],
      "_model_module": "@jupyter-widgets/controls",
      "_model_module_version": "1.5.0",
      "_model_name": "HBoxModel",
      "_view_count": null,
      "_view_module": "@jupyter-widgets/controls",
      "_view_module_version": "1.5.0",
      "_view_name": "HBoxView",
      "box_style": "",
      "children": [
       "IPY_MODEL_5a222c004e144a9a89806b32517d1abe",
       "IPY_MODEL_c4c370e2d0a04fa082e7747a93294ba8"
      ],
      "layout": "IPY_MODEL_04fa014b4b174774b2051e6e9491fe09"
     }
    },
    "a271a8b73de64d328aae4b7f5be56de6": {
     "model_module": "@jupyter-widgets/base",
     "model_name": "LayoutModel",
     "state": {
      "_model_module": "@jupyter-widgets/base",
      "_model_module_version": "1.2.0",
      "_model_name": "LayoutModel",
      "_view_count": null,
      "_view_module": "@jupyter-widgets/base",
      "_view_module_version": "1.2.0",
      "_view_name": "LayoutView",
      "align_content": null,
      "align_items": null,
      "align_self": null,
      "border": null,
      "bottom": null,
      "display": null,
      "flex": null,
      "flex_flow": null,
      "grid_area": null,
      "grid_auto_columns": null,
      "grid_auto_flow": null,
      "grid_auto_rows": null,
      "grid_column": null,
      "grid_gap": null,
      "grid_row": null,
      "grid_template_areas": null,
      "grid_template_columns": null,
      "grid_template_rows": null,
      "height": null,
      "justify_content": null,
      "justify_items": null,
      "left": null,
      "margin": null,
      "max_height": null,
      "max_width": null,
      "min_height": null,
      "min_width": null,
      "object_fit": null,
      "object_position": null,
      "order": null,
      "overflow": null,
      "overflow_x": null,
      "overflow_y": null,
      "padding": null,
      "right": null,
      "top": null,
      "visibility": null,
      "width": null
     }
    },
    "add6cb57c0f6409ca83c37cc00b50083": {
     "model_module": "@jupyter-widgets/controls",
     "model_name": "FloatProgressModel",
     "state": {
      "_dom_classes": [],
      "_model_module": "@jupyter-widgets/controls",
      "_model_module_version": "1.5.0",
      "_model_name": "FloatProgressModel",
      "_view_count": null,
      "_view_module": "@jupyter-widgets/controls",
      "_view_module_version": "1.5.0",
      "_view_name": "ProgressView",
      "bar_style": "success",
      "description": "",
      "description_tooltip": null,
      "layout": "IPY_MODEL_790abeec3d4241c1b4bc1e69086308dc",
      "max": 1,
      "min": 0,
      "orientation": "horizontal",
      "style": "IPY_MODEL_06a73fae4ed0415b85d31ae2fd7ef4b6",
      "value": 1
     }
    },
    "b05a86270f424627bf697b84cb880d3b": {
     "model_module": "@jupyter-widgets/base",
     "model_name": "LayoutModel",
     "state": {
      "_model_module": "@jupyter-widgets/base",
      "_model_module_version": "1.2.0",
      "_model_name": "LayoutModel",
      "_view_count": null,
      "_view_module": "@jupyter-widgets/base",
      "_view_module_version": "1.2.0",
      "_view_name": "LayoutView",
      "align_content": null,
      "align_items": null,
      "align_self": null,
      "border": null,
      "bottom": null,
      "display": null,
      "flex": null,
      "flex_flow": null,
      "grid_area": null,
      "grid_auto_columns": null,
      "grid_auto_flow": null,
      "grid_auto_rows": null,
      "grid_column": null,
      "grid_gap": null,
      "grid_row": null,
      "grid_template_areas": null,
      "grid_template_columns": null,
      "grid_template_rows": null,
      "height": null,
      "justify_content": null,
      "justify_items": null,
      "left": null,
      "margin": null,
      "max_height": null,
      "max_width": null,
      "min_height": null,
      "min_width": null,
      "object_fit": null,
      "object_position": null,
      "order": null,
      "overflow": null,
      "overflow_x": null,
      "overflow_y": null,
      "padding": null,
      "right": null,
      "top": null,
      "visibility": null,
      "width": null
     }
    },
    "b20301e5279a4c9a8ffb693c16ade0c0": {
     "model_module": "@jupyter-widgets/base",
     "model_name": "LayoutModel",
     "state": {
      "_model_module": "@jupyter-widgets/base",
      "_model_module_version": "1.2.0",
      "_model_name": "LayoutModel",
      "_view_count": null,
      "_view_module": "@jupyter-widgets/base",
      "_view_module_version": "1.2.0",
      "_view_name": "LayoutView",
      "align_content": null,
      "align_items": null,
      "align_self": null,
      "border": null,
      "bottom": null,
      "display": null,
      "flex": null,
      "flex_flow": null,
      "grid_area": null,
      "grid_auto_columns": null,
      "grid_auto_flow": null,
      "grid_auto_rows": null,
      "grid_column": null,
      "grid_gap": null,
      "grid_row": null,
      "grid_template_areas": null,
      "grid_template_columns": null,
      "grid_template_rows": null,
      "height": null,
      "justify_content": null,
      "justify_items": null,
      "left": null,
      "margin": null,
      "max_height": null,
      "max_width": null,
      "min_height": null,
      "min_width": null,
      "object_fit": null,
      "object_position": null,
      "order": null,
      "overflow": null,
      "overflow_x": null,
      "overflow_y": null,
      "padding": null,
      "right": null,
      "top": null,
      "visibility": null,
      "width": null
     }
    },
    "b73c5dbad7e447e182061d48380fd3bf": {
     "model_module": "@jupyter-widgets/controls",
     "model_name": "HBoxModel",
     "state": {
      "_dom_classes": [],
      "_model_module": "@jupyter-widgets/controls",
      "_model_module_version": "1.5.0",
      "_model_name": "HBoxModel",
      "_view_count": null,
      "_view_module": "@jupyter-widgets/controls",
      "_view_module_version": "1.5.0",
      "_view_name": "HBoxView",
      "box_style": "",
      "children": [
       "IPY_MODEL_add6cb57c0f6409ca83c37cc00b50083",
       "IPY_MODEL_ba32e53d6f5d44d2b7721f14a7737e9e"
      ],
      "layout": "IPY_MODEL_35c84a4ed1ba4870b1336e006c33e767"
     }
    },
    "ba32e53d6f5d44d2b7721f14a7737e9e": {
     "model_module": "@jupyter-widgets/controls",
     "model_name": "HTMLModel",
     "state": {
      "_dom_classes": [],
      "_model_module": "@jupyter-widgets/controls",
      "_model_module_version": "1.5.0",
      "_model_name": "HTMLModel",
      "_view_count": null,
      "_view_module": "@jupyter-widgets/controls",
      "_view_module_version": "1.5.0",
      "_view_name": "HTMLView",
      "description": "",
      "description_tooltip": null,
      "layout": "IPY_MODEL_156b1c5c87534d6a97220dc9177a59df",
      "placeholder": "​",
      "style": "IPY_MODEL_5dca13cc37aa42769c223bb2198592dc",
      "value": " 8192/? [00:00&lt;00:00, 41531.73it/s]"
     }
    },
    "be4bf227a70547f8a6718540b82c65a8": {
     "model_module": "@jupyter-widgets/controls",
     "model_name": "ProgressStyleModel",
     "state": {
      "_model_module": "@jupyter-widgets/controls",
      "_model_module_version": "1.5.0",
      "_model_name": "ProgressStyleModel",
      "_view_count": null,
      "_view_module": "@jupyter-widgets/base",
      "_view_module_version": "1.2.0",
      "_view_name": "StyleView",
      "bar_color": null,
      "description_width": "initial"
     }
    },
    "c4391ac0090443e4824d2d147ae94448": {
     "model_module": "@jupyter-widgets/controls",
     "model_name": "HBoxModel",
     "state": {
      "_dom_classes": [],
      "_model_module": "@jupyter-widgets/controls",
      "_model_module_version": "1.5.0",
      "_model_name": "HBoxModel",
      "_view_count": null,
      "_view_module": "@jupyter-widgets/controls",
      "_view_module_version": "1.5.0",
      "_view_name": "HBoxView",
      "box_style": "",
      "children": [
       "IPY_MODEL_08dddba55de24a49bf9c84f2cedbba00",
       "IPY_MODEL_090474d95f1d48d3aecc44f785c57ca2"
      ],
      "layout": "IPY_MODEL_987ffacff90040d5b07a2f462c42ab5f"
     }
    },
    "c4c370e2d0a04fa082e7747a93294ba8": {
     "model_module": "@jupyter-widgets/controls",
     "model_name": "HTMLModel",
     "state": {
      "_dom_classes": [],
      "_model_module": "@jupyter-widgets/controls",
      "_model_module_version": "1.5.0",
      "_model_name": "HTMLModel",
      "_view_count": null,
      "_view_module": "@jupyter-widgets/controls",
      "_view_module_version": "1.5.0",
      "_view_name": "HTMLView",
      "description": "",
      "description_tooltip": null,
      "layout": "IPY_MODEL_b20301e5279a4c9a8ffb693c16ade0c0",
      "placeholder": "​",
      "style": "IPY_MODEL_3d9642bfafc541a88affbf65e89700fd",
      "value": " 32768/? [00:00&lt;00:00, 48785.22it/s]"
     }
    },
    "c538440ed4804e68beebf63eab85c61b": {
     "model_module": "@jupyter-widgets/base",
     "model_name": "LayoutModel",
     "state": {
      "_model_module": "@jupyter-widgets/base",
      "_model_module_version": "1.2.0",
      "_model_name": "LayoutModel",
      "_view_count": null,
      "_view_module": "@jupyter-widgets/base",
      "_view_module_version": "1.2.0",
      "_view_name": "LayoutView",
      "align_content": null,
      "align_items": null,
      "align_self": null,
      "border": null,
      "bottom": null,
      "display": null,
      "flex": null,
      "flex_flow": null,
      "grid_area": null,
      "grid_auto_columns": null,
      "grid_auto_flow": null,
      "grid_auto_rows": null,
      "grid_column": null,
      "grid_gap": null,
      "grid_row": null,
      "grid_template_areas": null,
      "grid_template_columns": null,
      "grid_template_rows": null,
      "height": null,
      "justify_content": null,
      "justify_items": null,
      "left": null,
      "margin": null,
      "max_height": null,
      "max_width": null,
      "min_height": null,
      "min_width": null,
      "object_fit": null,
      "object_position": null,
      "order": null,
      "overflow": null,
      "overflow_x": null,
      "overflow_y": null,
      "padding": null,
      "right": null,
      "top": null,
      "visibility": null,
      "width": null
     }
    },
    "c94ce7e9c3bc4bc7b25c4ce3861987df": {
     "model_module": "@jupyter-widgets/base",
     "model_name": "LayoutModel",
     "state": {
      "_model_module": "@jupyter-widgets/base",
      "_model_module_version": "1.2.0",
      "_model_name": "LayoutModel",
      "_view_count": null,
      "_view_module": "@jupyter-widgets/base",
      "_view_module_version": "1.2.0",
      "_view_name": "LayoutView",
      "align_content": null,
      "align_items": null,
      "align_self": null,
      "border": null,
      "bottom": null,
      "display": null,
      "flex": null,
      "flex_flow": null,
      "grid_area": null,
      "grid_auto_columns": null,
      "grid_auto_flow": null,
      "grid_auto_rows": null,
      "grid_column": null,
      "grid_gap": null,
      "grid_row": null,
      "grid_template_areas": null,
      "grid_template_columns": null,
      "grid_template_rows": null,
      "height": null,
      "justify_content": null,
      "justify_items": null,
      "left": null,
      "margin": null,
      "max_height": null,
      "max_width": null,
      "min_height": null,
      "min_width": null,
      "object_fit": null,
      "object_position": null,
      "order": null,
      "overflow": null,
      "overflow_x": null,
      "overflow_y": null,
      "padding": null,
      "right": null,
      "top": null,
      "visibility": null,
      "width": null
     }
    },
    "ee278e96efb140cd8720739850c7567f": {
     "model_module": "@jupyter-widgets/controls",
     "model_name": "FloatProgressModel",
     "state": {
      "_dom_classes": [],
      "_model_module": "@jupyter-widgets/controls",
      "_model_module_version": "1.5.0",
      "_model_name": "FloatProgressModel",
      "_view_count": null,
      "_view_module": "@jupyter-widgets/controls",
      "_view_module_version": "1.5.0",
      "_view_name": "ProgressView",
      "bar_style": "success",
      "description": "",
      "description_tooltip": null,
      "layout": "IPY_MODEL_c94ce7e9c3bc4bc7b25c4ce3861987df",
      "max": 1,
      "min": 0,
      "orientation": "horizontal",
      "style": "IPY_MODEL_3b9265b3099846aabd75858c3bb5f5df",
      "value": 1
     }
    },
    "f4b73c98de9349a09b2275cf2f1ad005": {
     "model_module": "@jupyter-widgets/base",
     "model_name": "LayoutModel",
     "state": {
      "_model_module": "@jupyter-widgets/base",
      "_model_module_version": "1.2.0",
      "_model_name": "LayoutModel",
      "_view_count": null,
      "_view_module": "@jupyter-widgets/base",
      "_view_module_version": "1.2.0",
      "_view_name": "LayoutView",
      "align_content": null,
      "align_items": null,
      "align_self": null,
      "border": null,
      "bottom": null,
      "display": null,
      "flex": null,
      "flex_flow": null,
      "grid_area": null,
      "grid_auto_columns": null,
      "grid_auto_flow": null,
      "grid_auto_rows": null,
      "grid_column": null,
      "grid_gap": null,
      "grid_row": null,
      "grid_template_areas": null,
      "grid_template_columns": null,
      "grid_template_rows": null,
      "height": null,
      "justify_content": null,
      "justify_items": null,
      "left": null,
      "margin": null,
      "max_height": null,
      "max_width": null,
      "min_height": null,
      "min_width": null,
      "object_fit": null,
      "object_position": null,
      "order": null,
      "overflow": null,
      "overflow_x": null,
      "overflow_y": null,
      "padding": null,
      "right": null,
      "top": null,
      "visibility": null,
      "width": null
     }
    },
    "fd7f85df549c48b0b243f60fd4cb5b0f": {
     "model_module": "@jupyter-widgets/controls",
     "model_name": "DescriptionStyleModel",
     "state": {
      "_model_module": "@jupyter-widgets/controls",
      "_model_module_version": "1.5.0",
      "_model_name": "DescriptionStyleModel",
      "_view_count": null,
      "_view_module": "@jupyter-widgets/base",
      "_view_module_version": "1.2.0",
      "_view_name": "StyleView",
      "description_width": ""
     }
    }
   }
  },
  "pycharm": {
   "stem_cell": {
    "cell_type": "raw",
    "source": [],
    "metadata": {
     "collapsed": false
    }
   }
  }
 },
 "nbformat": 4,
 "nbformat_minor": 4
}