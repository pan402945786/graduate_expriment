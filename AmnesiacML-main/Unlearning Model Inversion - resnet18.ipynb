{
 "cells": [
  {
   "cell_type": "markdown",
   "metadata": {
    "colab_type": "text",
    "id": "bJ33E-3YrVD-"
   },
   "source": [
    "# Imports and Setup"
   ]
  },
  {
   "cell_type": "code",
   "execution_count": 37,
   "metadata": {},
   "outputs": [
    {
     "name": "stdout",
     "output_type": "stream",
     "text": [
      "/bin/sh: 1: zip: not found\n"
     ]
    }
   ],
   "source": [
    "!zip -r -X resnet_unlearning_files.zip resnet"
   ]
  },
  {
   "cell_type": "code",
   "execution_count": 3,
   "metadata": {
    "colab": {},
    "colab_type": "code",
    "executionInfo": {
     "elapsed": 4478,
     "status": "ok",
     "timestamp": 1597325221727,
     "user": {
      "displayName": "Laura Graves",
      "photoUrl": "https://lh3.googleusercontent.com/a-/AOh14GiKkfAu7BQzHB05KzNcpkWJTPiliHjKSyQr1GwxRA=s64",
      "userId": "02198458421856045349"
     },
     "user_tz": 240
    },
    "id": "KHwBjWkKqs0r"
   },
   "outputs": [],
   "source": [
    "import torch\n",
    "import torchvision\n",
    "import numpy as np\n",
    "import matplotlib.pyplot as plt\n",
    "from torchvision import datasets, transforms, models\n",
    "from torch import nn, optim\n",
    "from torch.nn import functional as F\n",
    "from torch.autograd import Variable\n",
    "from scipy import ndimage\n",
    "import copy\n",
    "import random\n",
    "import time\n",
    "\n",
    "torch.set_printoptions(precision=3)\n",
    "cuda = True if torch.cuda.is_available() else False"
   ]
  },
  {
   "cell_type": "code",
   "execution_count": 4,
   "metadata": {},
   "outputs": [
    {
     "name": "stdout",
     "output_type": "stream",
     "text": [
      "Requirement already satisfied: ipywidgets in ./.local/lib/python3.6/site-packages (7.5.1)\n",
      "Requirement already satisfied: ipython>=4.0.0; python_version >= \"3.3\" in /opt/conda/lib/python3.6/site-packages (from ipywidgets) (7.10.1)\n",
      "Requirement already satisfied: traitlets>=4.3.1 in /opt/conda/lib/python3.6/site-packages (from ipywidgets) (4.3.3)\n",
      "Requirement already satisfied: widgetsnbextension~=3.5.0 in ./.local/lib/python3.6/site-packages (from ipywidgets) (3.5.1)\n",
      "Requirement already satisfied: ipykernel>=4.5.1 in /opt/conda/lib/python3.6/site-packages (from ipywidgets) (5.3.3)\n",
      "Requirement already satisfied: nbformat>=4.2.0 in ./.local/lib/python3.6/site-packages (from ipywidgets) (5.0.7)\n",
      "Requirement already satisfied: jedi>=0.10 in /opt/conda/lib/python3.6/site-packages (from ipython>=4.0.0; python_version >= \"3.3\"->ipywidgets) (0.16.0)\n",
      "Requirement already satisfied: decorator in /opt/conda/lib/python3.6/site-packages (from ipython>=4.0.0; python_version >= \"3.3\"->ipywidgets) (4.4.2)\n",
      "Requirement already satisfied: pexpect; sys_platform != \"win32\" in /opt/conda/lib/python3.6/site-packages (from ipython>=4.0.0; python_version >= \"3.3\"->ipywidgets) (4.8.0)\n",
      "Requirement already satisfied: prompt-toolkit!=3.0.0,!=3.0.1,<3.1.0,>=2.0.0 in /opt/conda/lib/python3.6/site-packages (from ipython>=4.0.0; python_version >= \"3.3\"->ipywidgets) (3.0.4)\n",
      "Requirement already satisfied: setuptools>=18.5 in /opt/conda/lib/python3.6/site-packages (from ipython>=4.0.0; python_version >= \"3.3\"->ipywidgets) (46.1.3.post20200330)\n",
      "Requirement already satisfied: pickleshare in /opt/conda/lib/python3.6/site-packages (from ipython>=4.0.0; python_version >= \"3.3\"->ipywidgets) (0.7.5)\n",
      "Requirement already satisfied: backcall in /opt/conda/lib/python3.6/site-packages (from ipython>=4.0.0; python_version >= \"3.3\"->ipywidgets) (0.1.0)\n",
      "Requirement already satisfied: pygments in /opt/conda/lib/python3.6/site-packages (from ipython>=4.0.0; python_version >= \"3.3\"->ipywidgets) (2.6.1)\n",
      "Requirement already satisfied: ipython-genutils in /opt/conda/lib/python3.6/site-packages (from traitlets>=4.3.1->ipywidgets) (0.2.0)\n",
      "Requirement already satisfied: six in /opt/conda/lib/python3.6/site-packages (from traitlets>=4.3.1->ipywidgets) (1.14.0)\n",
      "Requirement already satisfied: notebook>=4.4.1 in ./.local/lib/python3.6/site-packages (from widgetsnbextension~=3.5.0->ipywidgets) (6.1.3)\n",
      "Requirement already satisfied: jupyter-client in /opt/conda/lib/python3.6/site-packages (from ipykernel>=4.5.1->ipywidgets) (6.1.6)\n",
      "Requirement already satisfied: tornado>=4.2 in /opt/conda/lib/python3.6/site-packages (from ipykernel>=4.5.1->ipywidgets) (6.0.4)\n",
      "Requirement already satisfied: jupyter-core in /opt/conda/lib/python3.6/site-packages (from nbformat>=4.2.0->ipywidgets) (4.6.3)\n",
      "Requirement already satisfied: jsonschema!=2.5.0,>=2.4 in ./.local/lib/python3.6/site-packages (from nbformat>=4.2.0->ipywidgets) (3.2.0)\n",
      "Requirement already satisfied: parso>=0.5.2 in /opt/conda/lib/python3.6/site-packages (from jedi>=0.10->ipython>=4.0.0; python_version >= \"3.3\"->ipywidgets) (0.6.2)\n",
      "Requirement already satisfied: ptyprocess>=0.5 in /opt/conda/lib/python3.6/site-packages (from pexpect; sys_platform != \"win32\"->ipython>=4.0.0; python_version >= \"3.3\"->ipywidgets) (0.6.0)\n",
      "Requirement already satisfied: wcwidth in /opt/conda/lib/python3.6/site-packages (from prompt-toolkit!=3.0.0,!=3.0.1,<3.1.0,>=2.0.0->ipython>=4.0.0; python_version >= \"3.3\"->ipywidgets) (0.1.9)\n",
      "Requirement already satisfied: jinja2 in /opt/conda/lib/python3.6/site-packages (from notebook>=4.4.1->widgetsnbextension~=3.5.0->ipywidgets) (2.11.1)\n",
      "Requirement already satisfied: nbconvert in ./.local/lib/python3.6/site-packages (from notebook>=4.4.1->widgetsnbextension~=3.5.0->ipywidgets) (5.6.1)\n",
      "Requirement already satisfied: pyzmq>=17 in /opt/conda/lib/python3.6/site-packages (from notebook>=4.4.1->widgetsnbextension~=3.5.0->ipywidgets) (19.0.0)\n",
      "Requirement already satisfied: Send2Trash in ./.local/lib/python3.6/site-packages (from notebook>=4.4.1->widgetsnbextension~=3.5.0->ipywidgets) (1.5.0)\n",
      "Requirement already satisfied: prometheus-client in ./.local/lib/python3.6/site-packages (from notebook>=4.4.1->widgetsnbextension~=3.5.0->ipywidgets) (0.8.0)\n",
      "Requirement already satisfied: argon2-cffi in ./.local/lib/python3.6/site-packages (from notebook>=4.4.1->widgetsnbextension~=3.5.0->ipywidgets) (20.1.0)\n",
      "Requirement already satisfied: terminado>=0.8.3 in ./.local/lib/python3.6/site-packages (from notebook>=4.4.1->widgetsnbextension~=3.5.0->ipywidgets) (0.8.3)\n",
      "Requirement already satisfied: python-dateutil>=2.1 in /opt/conda/lib/python3.6/site-packages (from jupyter-client->ipykernel>=4.5.1->ipywidgets) (2.8.1)\n",
      "Requirement already satisfied: importlib-metadata; python_version < \"3.8\" in /opt/conda/lib/python3.6/site-packages (from jsonschema!=2.5.0,>=2.4->nbformat>=4.2.0->ipywidgets) (1.6.0)\n",
      "Requirement already satisfied: attrs>=17.4.0 in ./.local/lib/python3.6/site-packages (from jsonschema!=2.5.0,>=2.4->nbformat>=4.2.0->ipywidgets) (19.3.0)\n",
      "Requirement already satisfied: pyrsistent>=0.14.0 in ./.local/lib/python3.6/site-packages (from jsonschema!=2.5.0,>=2.4->nbformat>=4.2.0->ipywidgets) (0.16.0)\n",
      "Requirement already satisfied: MarkupSafe>=0.23 in /opt/conda/lib/python3.6/site-packages (from jinja2->notebook>=4.4.1->widgetsnbextension~=3.5.0->ipywidgets) (1.1.1)\n",
      "Requirement already satisfied: entrypoints>=0.2.2 in ./.local/lib/python3.6/site-packages (from nbconvert->notebook>=4.4.1->widgetsnbextension~=3.5.0->ipywidgets) (0.3)\n",
      "Requirement already satisfied: testpath in ./.local/lib/python3.6/site-packages (from nbconvert->notebook>=4.4.1->widgetsnbextension~=3.5.0->ipywidgets) (0.4.4)\n",
      "Requirement already satisfied: defusedxml in ./.local/lib/python3.6/site-packages (from nbconvert->notebook>=4.4.1->widgetsnbextension~=3.5.0->ipywidgets) (0.6.0)\n",
      "Requirement already satisfied: pandocfilters>=1.4.1 in ./.local/lib/python3.6/site-packages (from nbconvert->notebook>=4.4.1->widgetsnbextension~=3.5.0->ipywidgets) (1.4.2)\n",
      "Requirement already satisfied: bleach in ./.local/lib/python3.6/site-packages (from nbconvert->notebook>=4.4.1->widgetsnbextension~=3.5.0->ipywidgets) (3.1.5)\n",
      "Requirement already satisfied: mistune<2,>=0.8.1 in ./.local/lib/python3.6/site-packages (from nbconvert->notebook>=4.4.1->widgetsnbextension~=3.5.0->ipywidgets) (0.8.4)\n",
      "Requirement already satisfied: cffi>=1.0.0 in /opt/conda/lib/python3.6/site-packages (from argon2-cffi->notebook>=4.4.1->widgetsnbextension~=3.5.0->ipywidgets) (1.14.0)\n",
      "Requirement already satisfied: zipp>=0.5 in /opt/conda/lib/python3.6/site-packages (from importlib-metadata; python_version < \"3.8\"->jsonschema!=2.5.0,>=2.4->nbformat>=4.2.0->ipywidgets) (3.1.0)\n",
      "Requirement already satisfied: webencodings in ./.local/lib/python3.6/site-packages (from bleach->nbconvert->notebook>=4.4.1->widgetsnbextension~=3.5.0->ipywidgets) (0.5.1)\n",
      "Requirement already satisfied: packaging in /opt/conda/lib/python3.6/site-packages (from bleach->nbconvert->notebook>=4.4.1->widgetsnbextension~=3.5.0->ipywidgets) (20.3)\n",
      "Requirement already satisfied: pycparser in /opt/conda/lib/python3.6/site-packages (from cffi>=1.0.0->argon2-cffi->notebook>=4.4.1->widgetsnbextension~=3.5.0->ipywidgets) (2.20)\n",
      "Requirement already satisfied: pyparsing>=2.0.2 in /opt/conda/lib/python3.6/site-packages (from packaging->bleach->nbconvert->notebook>=4.4.1->widgetsnbextension~=3.5.0->ipywidgets) (2.4.6)\n",
      "Note: you may need to restart the kernel to use updated packages.\n"
     ]
    }
   ],
   "source": [
    "pip install ipywidgets --user"
   ]
  },
  {
   "cell_type": "code",
   "execution_count": 5,
   "metadata": {},
   "outputs": [
    {
     "name": "stdout",
     "output_type": "stream",
     "text": [
      "Requirement already up-to-date: jupyter_client in /opt/conda/lib/python3.6/site-packages (6.1.6)\n",
      "Requirement already satisfied, skipping upgrade: jupyter-core>=4.6.0 in /opt/conda/lib/python3.6/site-packages (from jupyter_client) (4.6.3)\n",
      "Requirement already satisfied, skipping upgrade: pyzmq>=13 in /opt/conda/lib/python3.6/site-packages (from jupyter_client) (19.0.0)\n",
      "Requirement already satisfied, skipping upgrade: tornado>=4.1 in /opt/conda/lib/python3.6/site-packages (from jupyter_client) (6.0.4)\n",
      "Requirement already satisfied, skipping upgrade: traitlets in /opt/conda/lib/python3.6/site-packages (from jupyter_client) (4.3.3)\n",
      "Requirement already satisfied, skipping upgrade: python-dateutil>=2.1 in /opt/conda/lib/python3.6/site-packages (from jupyter_client) (2.8.1)\n",
      "Requirement already satisfied, skipping upgrade: six in /opt/conda/lib/python3.6/site-packages (from traitlets->jupyter_client) (1.14.0)\n",
      "Requirement already satisfied, skipping upgrade: ipython-genutils in /opt/conda/lib/python3.6/site-packages (from traitlets->jupyter_client) (0.2.0)\n",
      "Requirement already satisfied, skipping upgrade: decorator in /opt/conda/lib/python3.6/site-packages (from traitlets->jupyter_client) (4.4.2)\n",
      "Note: you may need to restart the kernel to use updated packages.\n"
     ]
    }
   ],
   "source": [
    "pip install --upgrade jupyter_client"
   ]
  },
  {
   "cell_type": "code",
   "execution_count": 6,
   "metadata": {
    "colab": {},
    "colab_type": "code",
    "executionInfo": {
     "elapsed": 4475,
     "status": "ok",
     "timestamp": 1597325221731,
     "user": {
      "displayName": "Laura Graves",
      "photoUrl": "https://lh3.googleusercontent.com/a-/AOh14GiKkfAu7BQzHB05KzNcpkWJTPiliHjKSyQr1GwxRA=s64",
      "userId": "02198458421856045349"
     },
     "user_tz": 240
    },
    "id": "85EQeiNzl4fD"
   },
   "outputs": [],
   "source": [
    "def normalize(img):\n",
    "    img = img / 2 + 0.5     # unnormalize\n",
    "    npimg = img.detach().numpy()\n",
    "    trans = np.transpose(npimg, (1,2,0))\n",
    "    return np.squeeze(trans)"
   ]
  },
  {
   "cell_type": "code",
   "execution_count": 7,
   "metadata": {
    "colab": {},
    "colab_type": "code",
    "executionInfo": {
     "elapsed": 4472,
     "status": "ok",
     "timestamp": 1597325221732,
     "user": {
      "displayName": "Laura Graves",
      "photoUrl": "https://lh3.googleusercontent.com/a-/AOh14GiKkfAu7BQzHB05KzNcpkWJTPiliHjKSyQr1GwxRA=s64",
      "userId": "02198458421856045349"
     },
     "user_tz": 240
    },
    "id": "H5fXJSmz1Qs1"
   },
   "outputs": [],
   "source": [
    "def imshow(img):\n",
    "    temp = normalize(img)\n",
    "    plt.imshow(temp, vmin=0, vmax=1, cmap='Greys_r')\n",
    "    plt.show()"
   ]
  },
  {
   "cell_type": "markdown",
   "metadata": {
    "colab_type": "text",
    "id": "0Fg9SwPurYwu"
   },
   "source": [
    "# Data Entry and Processing"
   ]
  },
  {
   "cell_type": "code",
   "execution_count": 8,
   "metadata": {
    "colab": {},
    "colab_type": "code",
    "executionInfo": {
     "elapsed": 313,
     "status": "ok",
     "timestamp": 1597325498446,
     "user": {
      "displayName": "Laura Graves",
      "photoUrl": "https://lh3.googleusercontent.com/a-/AOh14GiKkfAu7BQzHB05KzNcpkWJTPiliHjKSyQr1GwxRA=s64",
      "userId": "02198458421856045349"
     },
     "user_tz": 240
    },
    "id": "OxwbMjoErc73"
   },
   "outputs": [],
   "source": [
    "# Transform image to tensor and normalize features from [0,255] to [0,1]\n",
    "transform = transforms.Compose([transforms.ToTensor(), \n",
    "                                transforms.Normalize((0.5,),(0.5,)),\n",
    "                                ])"
   ]
  },
  {
   "cell_type": "code",
   "execution_count": 9,
   "metadata": {
    "colab": {
     "base_uri": "https://localhost:8080/",
     "height": 443,
     "referenced_widgets": [
      "46066bea204a4bbe830528b5de0c8372",
      "b05a86270f424627bf697b84cb880d3b",
      "ee278e96efb140cd8720739850c7567f",
      "71cb68dc80304efda622d5b0292667fb",
      "3b9265b3099846aabd75858c3bb5f5df",
      "c94ce7e9c3bc4bc7b25c4ce3861987df",
      "fd7f85df549c48b0b243f60fd4cb5b0f",
      "c538440ed4804e68beebf63eab85c61b",
      "9967f6c34acb4814b361004d2b75a075",
      "04fa014b4b174774b2051e6e9491fe09",
      "5a222c004e144a9a89806b32517d1abe",
      "c4c370e2d0a04fa082e7747a93294ba8",
      "be4bf227a70547f8a6718540b82c65a8",
      "a271a8b73de64d328aae4b7f5be56de6",
      "3d9642bfafc541a88affbf65e89700fd",
      "b20301e5279a4c9a8ffb693c16ade0c0",
      "c4391ac0090443e4824d2d147ae94448",
      "987ffacff90040d5b07a2f462c42ab5f",
      "08dddba55de24a49bf9c84f2cedbba00",
      "090474d95f1d48d3aecc44f785c57ca2",
      "4b03eb022f1d445abdc9cc4379238478",
      "f4b73c98de9349a09b2275cf2f1ad005",
      "72ee481e0e90406baf0bf2722f026b8a",
      "79522c5c11fd455895f6def40115c1b1",
      "b73c5dbad7e447e182061d48380fd3bf",
      "35c84a4ed1ba4870b1336e006c33e767",
      "add6cb57c0f6409ca83c37cc00b50083",
      "ba32e53d6f5d44d2b7721f14a7737e9e",
      "06a73fae4ed0415b85d31ae2fd7ef4b6",
      "790abeec3d4241c1b4bc1e69086308dc",
      "5dca13cc37aa42769c223bb2198592dc",
      "156b1c5c87534d6a97220dc9177a59df"
     ]
    },
    "colab_type": "code",
    "executionInfo": {
     "elapsed": 1878,
     "status": "ok",
     "timestamp": 1597325500586,
     "user": {
      "displayName": "Laura Graves",
      "photoUrl": "https://lh3.googleusercontent.com/a-/AOh14GiKkfAu7BQzHB05KzNcpkWJTPiliHjKSyQr1GwxRA=s64",
      "userId": "02198458421856045349"
     },
     "user_tz": 240
    },
    "id": "MXC2v1cDsR6o",
    "outputId": "be58307c-5a7c-472a-f1d0-d805364443af"
   },
   "outputs": [],
   "source": [
    "# Using MNIST\n",
    "traindata = datasets.MNIST('/data', download=True, train=True, transform=transform)\n",
    "testdata = datasets.MNIST('/data', download=True, train=False, transform=transform)"
   ]
  },
  {
   "cell_type": "code",
   "execution_count": 10,
   "metadata": {
    "colab": {},
    "colab_type": "code",
    "executionInfo": {
     "elapsed": 513,
     "status": "ok",
     "timestamp": 1597325501243,
     "user": {
      "displayName": "Laura Graves",
      "photoUrl": "https://lh3.googleusercontent.com/a-/AOh14GiKkfAu7BQzHB05KzNcpkWJTPiliHjKSyQr1GwxRA=s64",
      "userId": "02198458421856045349"
     },
     "user_tz": 240
    },
    "id": "J1HdLLfPvwhw"
   },
   "outputs": [],
   "source": [
    "# Loaders that give 64 example batches\n",
    "all_data_train_loader = torch.utils.data.DataLoader(traindata, batch_size=64, shuffle=True)\n",
    "all_data_test_loader = torch.utils.data.DataLoader(testdata, batch_size=64, shuffle=True)"
   ]
  },
  {
   "cell_type": "code",
   "execution_count": 11,
   "metadata": {
    "colab": {},
    "colab_type": "code",
    "executionInfo": {
     "elapsed": 2677,
     "status": "ok",
     "timestamp": 1597325503931,
     "user": {
      "displayName": "Laura Graves",
      "photoUrl": "https://lh3.googleusercontent.com/a-/AOh14GiKkfAu7BQzHB05KzNcpkWJTPiliHjKSyQr1GwxRA=s64",
      "userId": "02198458421856045349"
     },
     "user_tz": 240
    },
    "id": "iCHyy4w_S7aV"
   },
   "outputs": [],
   "source": [
    "# Test dataloader with 3's only\n",
    "threes_index = []\n",
    "nonthrees_index = []\n",
    "for i in range(0, len(testdata)):\n",
    "  if testdata[i][1] == 3:\n",
    "    threes_index.append(i)\n",
    "  else:\n",
    "    nonthrees_index.append(i)\n",
    "three_test_loader = torch.utils.data.DataLoader(testdata, batch_size=64,\n",
    "              sampler = torch.utils.data.SubsetRandomSampler(threes_index))\n",
    "nonthree_test_loader = torch.utils.data.DataLoader(testdata, batch_size=64,\n",
    "              sampler = torch.utils.data.SubsetRandomSampler(nonthrees_index))"
   ]
  },
  {
   "cell_type": "code",
   "execution_count": 12,
   "metadata": {
    "colab": {},
    "colab_type": "code",
    "executionInfo": {
     "elapsed": 12040,
     "status": "ok",
     "timestamp": 1597325515030,
     "user": {
      "displayName": "Laura Graves",
      "photoUrl": "https://lh3.googleusercontent.com/a-/AOh14GiKkfAu7BQzHB05KzNcpkWJTPiliHjKSyQr1GwxRA=s64",
      "userId": "02198458421856045349"
     },
     "user_tz": 240
    },
    "id": "gmMmWlHaC5Q5"
   },
   "outputs": [],
   "source": [
    "# Train dataloader without 3's\n",
    "nonthrees_index = []\n",
    "for i in range(0, len(traindata)):\n",
    "  if traindata[i][1] != 3:\n",
    "    nonthrees_index.append(i)\n",
    "nonthree_train_loader = torch.utils.data.DataLoader(traindata, batch_size=64,\n",
    "                     sampler = torch.utils.data.SubsetRandomSampler(nonthrees_index))"
   ]
  },
  {
   "cell_type": "code",
   "execution_count": 13,
   "metadata": {
    "colab": {},
    "colab_type": "code",
    "executionInfo": {
     "elapsed": 12331,
     "status": "ok",
     "timestamp": 1597325515863,
     "user": {
      "displayName": "Laura Graves",
      "photoUrl": "https://lh3.googleusercontent.com/a-/AOh14GiKkfAu7BQzHB05KzNcpkWJTPiliHjKSyQr1GwxRA=s64",
      "userId": "02198458421856045349"
     },
     "user_tz": 240
    },
    "id": "igLdvWFl90vS"
   },
   "outputs": [],
   "source": [
    "# Unlearning dataset with all \"3\" labels randomly assigned\n",
    "unlearningdata = copy.deepcopy(traindata)\n",
    "unlearninglabels = list(range(10))\n",
    "unlearninglabels.remove(3)\n",
    "for i in range(len(unlearningdata)):\n",
    "  if unlearningdata.targets[i] == 3:\n",
    "    unlearningdata.targets[i] = random.choice(unlearninglabels)\n",
    "unlearning_train_loader = torch.utils.data.DataLoader(unlearningdata, batch_size=64, shuffle=True)"
   ]
  },
  {
   "cell_type": "code",
   "execution_count": 14,
   "metadata": {
    "colab": {
     "base_uri": "https://localhost:8080/",
     "height": 284
    },
    "colab_type": "code",
    "executionInfo": {
     "elapsed": 11701,
     "status": "ok",
     "timestamp": 1597325516551,
     "user": {
      "displayName": "Laura Graves",
      "photoUrl": "https://lh3.googleusercontent.com/a-/AOh14GiKkfAu7BQzHB05KzNcpkWJTPiliHjKSyQr1GwxRA=s64",
      "userId": "02198458421856045349"
     },
     "user_tz": 240
    },
    "id": "DOKJxAoAHcso",
    "outputId": "b9644c59-eef8-412c-c060-587cd027162a"
   },
   "outputs": [
    {
     "data": {
      "image/png": "[encoded data removed]",
      "text/plain": [
       "<Figure size 432x288 with 6 Axes>"
      ]
     },
     "metadata": {},
     "output_type": "display_data"
    }
   ],
   "source": [
    "examples = enumerate(unlearning_train_loader)\n",
    "batch_idx, (example_data, example_targets) = next(examples)\n",
    "\n",
    "fig = plt.figure()\n",
    "for i in range(6):\n",
    "  plt.subplot(2,3,i+1)\n",
    "  plt.tight_layout()\n",
    "  plt.imshow(example_data[i][0], cmap='gray', interpolation='none')\n",
    "  plt.title(\"Label: {}\".format(example_targets[i]))\n",
    "  plt.xticks([])\n",
    "  plt.yticks([])"
   ]
  },
  {
   "cell_type": "markdown",
   "metadata": {
    "colab_type": "text",
    "id": "5GHiRlkzwKnB"
   },
   "source": [
    "# Model"
   ]
  },
  {
   "cell_type": "code",
   "execution_count": 15,
   "metadata": {
    "colab": {},
    "colab_type": "code",
    "executionInfo": {
     "elapsed": 9668,
     "status": "ok",
     "timestamp": 1597325516552,
     "user": {
      "displayName": "Laura Graves",
      "photoUrl": "https://lh3.googleusercontent.com/a-/AOh14GiKkfAu7BQzHB05KzNcpkWJTPiliHjKSyQr1GwxRA=s64",
      "userId": "02198458421856045349"
     },
     "user_tz": 240
    },
    "id": "h-YvXNaj2Olp"
   },
   "outputs": [],
   "source": [
    "# Hyperparameters\n",
    "batch_size_train = 64\n",
    "batch_size_test = 64\n",
    "log_interval = 512\n",
    "num_classes = 10\n",
    "torch.backends.cudnn.enabled = True\n",
    "criterion = F.nll_loss"
   ]
  },
  {
   "cell_type": "code",
   "execution_count": 16,
   "metadata": {
    "colab": {},
    "colab_type": "code",
    "executionInfo": {
     "elapsed": 8409,
     "status": "ok",
     "timestamp": 1597325516553,
     "user": {
      "displayName": "Laura Graves",
      "photoUrl": "https://lh3.googleusercontent.com/a-/AOh14GiKkfAu7BQzHB05KzNcpkWJTPiliHjKSyQr1GwxRA=s64",
      "userId": "02198458421856045349"
     },
     "user_tz": 240
    },
    "id": "7r7pQAbYyFl7"
   },
   "outputs": [],
   "source": [
    "# Training method\n",
    "def train(model, epoch, loader, returnable=False):\n",
    "  model.train()\n",
    "  if returnable:\n",
    "    thracc = []\n",
    "    nacc = []\n",
    "  for batch_idx, (data, target) in enumerate(loader):\n",
    "    optimizer.zero_grad()\n",
    "    output = model(data)\n",
    "    loss = criterion(output, target)\n",
    "    loss.backward()\n",
    "    optimizer.step()\n",
    "    if batch_idx % log_interval == 0:\n",
    "      print(\"Epoch: {} [{:6d}]\\tLoss: {:.6f}\".format(\n",
    "          epoch, batch_idx*len(data),  loss.item()\n",
    "      ))\n",
    "    if returnable and batch_idx % 10 == 0:\n",
    "      thracc.append(test(model, three_test_loader, dname=\"Threes only\", printable=False))\n",
    "      if batch_idx % 10 == 0:\n",
    "        nacc.append(test(model, nonthree_test_loader, dname=\"nonthree only\", printable=False))\n",
    "      model.train()\n",
    "  if returnable:\n",
    "    return thracc, nacc"
   ]
  },
  {
   "cell_type": "code",
   "execution_count": 17,
   "metadata": {
    "colab": {},
    "colab_type": "code",
    "executionInfo": {
     "elapsed": 6641,
     "status": "ok",
     "timestamp": 1597325516554,
     "user": {
      "displayName": "Laura Graves",
      "photoUrl": "https://lh3.googleusercontent.com/a-/AOh14GiKkfAu7BQzHB05KzNcpkWJTPiliHjKSyQr1GwxRA=s64",
      "userId": "02198458421856045349"
     },
     "user_tz": 240
    },
    "id": "Y10g3tLd0zTs"
   },
   "outputs": [],
   "source": [
    "# Testing method\n",
    "def test(model, loader, dname=\"Test set\", printable=True):\n",
    "  model.eval()\n",
    "  test_loss = 0\n",
    "  total = 0\n",
    "  correct = 0\n",
    "  with torch.no_grad():\n",
    "    for data, target in loader:\n",
    "      output = model(data)\n",
    "      total += target.size()[0]\n",
    "      test_loss += criterion(output, target).item()\n",
    "      pred = output.data.max(1, keepdim=True)[1]\n",
    "      correct += pred.eq(target.data.view_as(pred)).sum()\n",
    "  test_loss /= len(loader.dataset)\n",
    "  if printable:\n",
    "    print('{}: Mean loss: {:.4f}, Accuracy: {}/{} ({:.0f}%)'.format(\n",
    "        dname, test_loss, correct, total, \n",
    "        100. * correct / total\n",
    "        ))\n",
    "  return 1. * correct / total"
   ]
  },
  {
   "cell_type": "markdown",
   "metadata": {
    "colab_type": "text",
    "id": "KwC4bhnrgf9G"
   },
   "source": [
    "# Model Inversion"
   ]
  },
  {
   "cell_type": "code",
   "execution_count": 18,
   "metadata": {
    "colab": {},
    "colab_type": "code",
    "id": "qvxZwTQrSnHR"
   },
   "outputs": [],
   "source": [
    "def invert(model, x, y, num_iters=5000, learning_rate=1, show=False, refine=True, t1 = -1/6, t2 = -1):\n",
    "\n",
    "  model.eval()\n",
    "  nx = Variable(x.data, requires_grad=True)\n",
    "  loss = 10000000\n",
    "\n",
    "  for i in range(num_iters + 1):\n",
    "    if i % 100 == 0:\n",
    "      print(\"\\rIteration: {}\\tLoss: {}\".format(i, loss), end=\"\")\n",
    "    model.zero_grad()\n",
    "    pred = model(nx)\n",
    "    loss = criterion(pred, y)\n",
    "    loss.backward()\n",
    "    nx = nx - learning_rate*nx.grad\n",
    "    torch.clamp(nx, min=-1, max=1)\n",
    "    if refine:\n",
    "      if i % 500 == 0 and i > 0 and i < num_iters:\n",
    "        nx = ndimage.median_filter(nx.detach(), size=2)\n",
    "        blur = ndimage.gaussian_filter(nx, sigma=2, truncate=t1)\n",
    "        filter_blur = ndimage.gaussian_filter(blur, sigma=1, truncate=t2)\n",
    "        nx = blur + 80 * (blur - filter_blur)\n",
    "        nx = Variable(torch.from_numpy(nx), requires_grad=True)\n",
    "      else:\n",
    "        nx = Variable(nx.data, requires_grad=True)\n",
    "    else:\n",
    "      nx = Variable(nx.data, requires_grad=True)\n",
    "  torch.clamp(nx, min=-1, max=1)\n",
    "  print()\n",
    "  return nx[0]"
   ]
  },
  {
   "cell_type": "code",
   "execution_count": 19,
   "metadata": {
    "colab": {},
    "colab_type": "code",
    "id": "t-jrZ-chV2Cd"
   },
   "outputs": [],
   "source": [
    "def generate(model, target, learning_rate=1, num_iters=8000, examples=1, show = False, div=256):\n",
    "  images = []\n",
    "  for i in range(examples):\n",
    "    print(\"Inversion {}/{}\".format(i+1, examples))\n",
    "    noise = torch.rand(1, 1, 28, 28, dtype=torch.float, requires_grad=False)\n",
    "    noise /= div\n",
    "    noise -= 1\n",
    "    noise.requires_grad=True\n",
    "    targetval = torch.tensor([target])\n",
    "    image = invert(model, noise, targetval, show=False, learning_rate=learning_rate, num_iters=num_iters,\n",
    "                    refine=True)\n",
    "    images.append(image)\n",
    "    if show:\n",
    "      images = torch.stack(images)\n",
    "      imshow(torchvision.utils.make_grid(images, nrow=4))\n",
    "  return images"
   ]
  },
  {
   "cell_type": "markdown",
   "metadata": {
    "colab_type": "text",
    "id": "GCwJjVyt_Zxz"
   },
   "source": [
    "# Original Training"
   ]
  },
  {
   "cell_type": "code",
   "execution_count": 20,
   "metadata": {
    "colab": {},
    "colab_type": "code",
    "executionInfo": {
     "elapsed": 322,
     "status": "ok",
     "timestamp": 1597325557476,
     "user": {
      "displayName": "Laura Graves",
      "photoUrl": "https://lh3.googleusercontent.com/a-/AOh14GiKkfAu7BQzHB05KzNcpkWJTPiliHjKSyQr1GwxRA=s64",
      "userId": "02198458421856045349"
     },
     "user_tz": 240
    },
    "id": "w8mU7BQnBVZN"
   },
   "outputs": [],
   "source": [
    "trainingepochs = 10\n",
    "forgetfulepochs = 10\n",
    "naive_accuracy_three = []\n",
    "naive_accuracy_nonthree = []\n",
    "unlearning_accuracy_three = []\n",
    "unlearning_accuracy_nonthree = []"
   ]
  },
  {
   "cell_type": "code",
   "execution_count": 21,
   "metadata": {
    "colab": {},
    "colab_type": "code",
    "executionInfo": {
     "elapsed": 515,
     "status": "ok",
     "timestamp": 1597325559160,
     "user": {
      "displayName": "Laura Graves",
      "photoUrl": "https://lh3.googleusercontent.com/a-/AOh14GiKkfAu7BQzHB05KzNcpkWJTPiliHjKSyQr1GwxRA=s64",
      "userId": "02198458421856045349"
     },
     "user_tz": 240
    },
    "id": "Qsn4ZDQKY5yy"
   },
   "outputs": [],
   "source": [
    "# load resnet 18 and change to fit problem dimensionality\n",
    "resnet = models.resnet18()\n",
    "resnet.conv1 = nn.Conv2d(1, 64, kernel_size=(7,7), stride=(2,2), padding=(3,3), bias=False)\n",
    "resnet.fc = nn.Sequential(nn.Linear(512, num_classes), nn.LogSoftmax(dim=1))\n",
    "optimizer = optim.Adam(resnet.parameters())"
   ]
  },
  {
   "cell_type": "code",
   "execution_count": null,
   "metadata": {
    "colab": {
     "base_uri": "https://localhost:8080/",
     "height": 451
    },
    "colab_type": "code",
    "executionInfo": {
     "elapsed": 3178778,
     "status": "ok",
     "timestamp": 1597328738936,
     "user": {
      "displayName": "Laura Graves",
      "photoUrl": "https://lh3.googleusercontent.com/a-/AOh14GiKkfAu7BQzHB05KzNcpkWJTPiliHjKSyQr1GwxRA=s64",
      "userId": "02198458421856045349"
     },
     "user_tz": 240
    },
    "id": "hqJ4gRHp1tZc",
    "outputId": "e9607831-5704-4a84-9416-5c7fecbdd726"
   },
   "outputs": [],
   "source": [
    "# Train new model for 5 epochs\n",
    "for epoch in range(1, trainingepochs+1):\n",
    "  starttime = time.process_time()\n",
    "  # train(resnet, epoch, all_data_train_loader, returnable=False)\n",
    "  thracc, nacc = train(resnet, epoch, all_data_train_loader, returnable=True)\n",
    "  naive_accuracy_three += thracc\n",
    "  naive_accuracy_nonthree += nacc\n",
    "  unlearning_accuracy_three += thracc\n",
    "  unlearning_accuracy_nonthree += nacc\n",
    "  test(resnet, all_data_test_loader, dname=\"All data\")\n",
    "  test(resnet, three_test_loader, dname=\"Threes  \")\n",
    "  test(resnet, nonthree_test_loader, dname=\"Nonthree\")\n",
    "  print(f\"Time taken: {time.process_time() - starttime}\")"
   ]
  },
  {
   "cell_type": "code",
   "execution_count": 26,
   "metadata": {
    "colab": {},
    "colab_type": "code",
    "executionInfo": {
     "elapsed": 3360,
     "status": "ok",
     "timestamp": 1597328742313,
     "user": {
      "displayName": "Laura Graves",
      "photoUrl": "https://lh3.googleusercontent.com/a-/AOh14GiKkfAu7BQzHB05KzNcpkWJTPiliHjKSyQr1GwxRA=s64",
      "userId": "02198458421856045349"
     },
     "user_tz": 240
    },
    "id": "sSoTQ-Oi_jKu"
   },
   "outputs": [],
   "source": [
    "path = F\"resnet/trained.pt\"\n",
    "torch.save({\n",
    "            'model_state_dict': resnet.state_dict(),\n",
    "            'optimizer_state_dict': optimizer.state_dict(),\n",
    "            }, path)"
   ]
  },
  {
   "cell_type": "code",
   "execution_count": 27,
   "metadata": {
    "colab": {},
    "colab_type": "code",
    "executionInfo": {
     "elapsed": 3355,
     "status": "ok",
     "timestamp": 1597328742313,
     "user": {
      "displayName": "Laura Graves",
      "photoUrl": "https://lh3.googleusercontent.com/a-/AOh14GiKkfAu7BQzHB05KzNcpkWJTPiliHjKSyQr1GwxRA=s64",
      "userId": "02198458421856045349"
     },
     "user_tz": 240
    },
    "id": "FLTmUxvbJvmG"
   },
   "outputs": [],
   "source": [
    "path = F\"resnet/trained_accuracy_three.txt\"\n",
    "with open(path, 'w') as f:\n",
    "  for data in naive_accuracy_three:\n",
    "    f.write(f\"{data},\")"
   ]
  },
  {
   "cell_type": "code",
   "execution_count": 28,
   "metadata": {
    "colab": {},
    "colab_type": "code",
    "executionInfo": {
     "elapsed": 3353,
     "status": "ok",
     "timestamp": 1597328742315,
     "user": {
      "displayName": "Laura Graves",
      "photoUrl": "https://lh3.googleusercontent.com/a-/AOh14GiKkfAu7BQzHB05KzNcpkWJTPiliHjKSyQr1GwxRA=s64",
      "userId": "02198458421856045349"
     },
     "user_tz": 240
    },
    "id": "3eKKvB-pJwSX"
   },
   "outputs": [],
   "source": [
    "path = F\"resnet/trained_accuracy_nonthree.txt\"\n",
    "with open(path, 'w') as f:\n",
    "  for data in naive_accuracy_nonthree:\n",
    "    f.write(f\"{data},\")"
   ]
  },
  {
   "cell_type": "markdown",
   "metadata": {
    "colab_type": "text",
    "id": "UPB4hpKVBMZz"
   },
   "source": [
    "# Naive Retraining"
   ]
  },
  {
   "cell_type": "code",
   "execution_count": 22,
   "metadata": {
    "colab": {},
    "colab_type": "code",
    "executionInfo": {
     "elapsed": 274,
     "status": "ok",
     "timestamp": 1597328756659,
     "user": {
      "displayName": "Laura Graves",
      "photoUrl": "https://lh3.googleusercontent.com/a-/AOh14GiKkfAu7BQzHB05KzNcpkWJTPiliHjKSyQr1GwxRA=s64",
      "userId": "02198458421856045349"
     },
     "user_tz": 240
    },
    "id": "5ZqsyeK9pIVD"
   },
   "outputs": [],
   "source": [
    "path = F\"resnet/trained.pt\""
   ]
  },
  {
   "cell_type": "code",
   "execution_count": 23,
   "metadata": {
    "colab": {},
    "colab_type": "code",
    "executionInfo": {
     "elapsed": 503,
     "status": "ok",
     "timestamp": 1597328757804,
     "user": {
      "displayName": "Laura Graves",
      "photoUrl": "https://lh3.googleusercontent.com/a-/AOh14GiKkfAu7BQzHB05KzNcpkWJTPiliHjKSyQr1GwxRA=s64",
      "userId": "02198458421856045349"
     },
     "user_tz": 240
    },
    "id": "9xebQJfMpGum"
   },
   "outputs": [],
   "source": [
    "checkpoint = torch.load(path)\n",
    "resnet.load_state_dict(checkpoint['model_state_dict'])\n",
    "optimizer.load_state_dict(checkpoint['optimizer_state_dict'])"
   ]
  },
  {
   "cell_type": "code",
   "execution_count": 24,
   "metadata": {},
   "outputs": [],
   "source": [
    "naive_accuracy_three = []\n",
    "naive_accuracy_nonthree =[]"
   ]
  },
  {
   "cell_type": "code",
   "execution_count": 25,
   "metadata": {
    "colab": {
     "base_uri": "https://localhost:8080/",
     "height": 451
    },
    "colab_type": "code",
    "executionInfo": {
     "elapsed": 2911469,
     "status": "ok",
     "timestamp": 1597331670383,
     "user": {
      "displayName": "Laura Graves",
      "photoUrl": "https://lh3.googleusercontent.com/a-/AOh14GiKkfAu7BQzHB05KzNcpkWJTPiliHjKSyQr1GwxRA=s64",
      "userId": "02198458421856045349"
     },
     "user_tz": 240
    },
    "id": "h3wJHd6pNJBE",
    "outputId": "a088e348-56f9-47e1-d882-ff67c6ead869"
   },
   "outputs": [
    {
     "name": "stdout",
     "output_type": "stream",
     "text": [
      "Epoch: 11 [     0]\tLoss: 0.000787\n",
      "Epoch: 11 [ 32768]\tLoss: 0.177637\n",
      "All data: Mean loss: 0.0020, Accuracy: 9524/10000 (95%)\n",
      "Threes  : Mean loss: 0.0016, Accuracy: 622/1010 (62%)\n",
      "Nonthree: Mean loss: 0.0004, Accuracy: 8902/8990 (99%)\n",
      "Epoch: 12 [     0]\tLoss: 0.004905\n",
      "Epoch: 12 [ 32768]\tLoss: 0.068239\n",
      "All data: Mean loss: 0.0013, Accuracy: 9740/10000 (97%)\n",
      "Threes  : Mean loss: 0.0010, Accuracy: 807/1010 (80%)\n",
      "Nonthree: Mean loss: 0.0003, Accuracy: 8933/8990 (99%)\n",
      "Epoch: 13 [     0]\tLoss: 0.084284\n",
      "Epoch: 13 [ 32768]\tLoss: 0.004333\n",
      "All data: Mean loss: 0.0023, Accuracy: 9463/10000 (95%)\n",
      "Threes  : Mean loss: 0.0019, Accuracy: 542/1010 (54%)\n",
      "Nonthree: Mean loss: 0.0005, Accuracy: 8921/8990 (99%)\n",
      "Epoch: 14 [     0]\tLoss: 0.000099\n",
      "Epoch: 14 [ 32768]\tLoss: 0.006450\n",
      "All data: Mean loss: 0.0021, Accuracy: 9527/10000 (95%)\n",
      "Threes  : Mean loss: 0.0017, Accuracy: 613/1010 (61%)\n",
      "Nonthree: Mean loss: 0.0005, Accuracy: 8914/8990 (99%)\n",
      "Epoch: 15 [     0]\tLoss: 0.015576\n",
      "Epoch: 15 [ 32768]\tLoss: 0.000184\n",
      "All data: Mean loss: 0.0049, Accuracy: 8998/10000 (90%)\n",
      "Threes  : Mean loss: 0.0044, Accuracy: 95/1010 (9%)\n",
      "Nonthree: Mean loss: 0.0005, Accuracy: 8903/8990 (99%)\n",
      "Epoch: 16 [     0]\tLoss: 0.001979\n",
      "Epoch: 16 [ 32768]\tLoss: 0.055413\n",
      "All data: Mean loss: 0.0070, Accuracy: 8962/10000 (90%)\n",
      "Threes  : Mean loss: 0.0067, Accuracy: 47/1010 (5%)\n",
      "Nonthree: Mean loss: 0.0005, Accuracy: 8915/8990 (99%)\n",
      "Epoch: 17 [     0]\tLoss: 0.013936\n",
      "Epoch: 17 [ 32768]\tLoss: 0.000384\n",
      "All data: Mean loss: 0.0061, Accuracy: 8978/10000 (90%)\n",
      "Threes  : Mean loss: 0.0057, Accuracy: 49/1010 (5%)\n",
      "Nonthree: Mean loss: 0.0004, Accuracy: 8929/8990 (99%)\n",
      "Epoch: 18 [     0]\tLoss: 0.000040\n",
      "Epoch: 18 [ 32768]\tLoss: 0.036071\n",
      "All data: Mean loss: 0.0070, Accuracy: 8955/10000 (90%)\n",
      "Threes  : Mean loss: 0.0067, Accuracy: 29/1010 (3%)\n",
      "Nonthree: Mean loss: 0.0004, Accuracy: 8926/8990 (99%)\n",
      "Epoch: 19 [     0]\tLoss: 0.009306\n",
      "Epoch: 19 [ 32768]\tLoss: 0.051789\n",
      "All data: Mean loss: 0.0065, Accuracy: 8935/10000 (89%)\n",
      "Threes  : Mean loss: 0.0061, Accuracy: 12/1010 (1%)\n",
      "Nonthree: Mean loss: 0.0004, Accuracy: 8923/8990 (99%)\n",
      "Epoch: 20 [     0]\tLoss: 0.004088\n",
      "Epoch: 20 [ 32768]\tLoss: 0.000452\n",
      "All data: Mean loss: 0.0088, Accuracy: 8930/10000 (89%)\n",
      "Threes  : Mean loss: 0.0085, Accuracy: 0/1010 (0%)\n",
      "Nonthree: Mean loss: 0.0004, Accuracy: 8930/8990 (99%)\n"
     ]
    }
   ],
   "source": [
    "# Train model for 5 epochs\n",
    "for epoch in range(trainingepochs+1,trainingepochs+forgetfulepochs+1):\n",
    "  # train(resnet, epoch, nonthree_train_loader, returnable=False)\n",
    "  thracc, nacc = train(resnet, epoch, nonthree_train_loader, returnable=True)\n",
    "  naive_accuracy_three += thracc\n",
    "  naive_accuracy_nonthree += nacc\n",
    "  test(resnet, all_data_test_loader, dname=\"All data\")\n",
    "  test(resnet, three_test_loader, dname=\"Threes  \")\n",
    "  test(resnet, nonthree_test_loader, dname=\"Nonthree\")\n",
    "  path = F\"resnet/retraining-epoch-{epoch}.pt\"\n",
    "  torch.save({ \n",
    "            'model_state_dict': resnet.state_dict(),\n",
    "            'optimizer_state_dict': optimizer.state_dict(),\n",
    "            }, path)"
   ]
  },
  {
   "cell_type": "code",
   "execution_count": 26,
   "metadata": {
    "colab": {},
    "colab_type": "code",
    "executionInfo": {
     "elapsed": 371,
     "status": "ok",
     "timestamp": 1597331705595,
     "user": {
      "displayName": "Laura Graves",
      "photoUrl": "https://lh3.googleusercontent.com/a-/AOh14GiKkfAu7BQzHB05KzNcpkWJTPiliHjKSyQr1GwxRA=s64",
      "userId": "02198458421856045349"
     },
     "user_tz": 240
    },
    "id": "ywmQLwBTBCo1"
   },
   "outputs": [],
   "source": [
    "path = F\"resnet/naive_accuracy_three.txt\"\n",
    "with open(path, 'w') as f:\n",
    "  for data in naive_accuracy_three:\n",
    "    f.write(f\"{data},\")"
   ]
  },
  {
   "cell_type": "code",
   "execution_count": 27,
   "metadata": {
    "colab": {},
    "colab_type": "code",
    "executionInfo": {
     "elapsed": 357,
     "status": "ok",
     "timestamp": 1597331708667,
     "user": {
      "displayName": "Laura Graves",
      "photoUrl": "https://lh3.googleusercontent.com/a-/AOh14GiKkfAu7BQzHB05KzNcpkWJTPiliHjKSyQr1GwxRA=s64",
      "userId": "02198458421856045349"
     },
     "user_tz": 240
    },
    "id": "Sczd12liBI0z"
   },
   "outputs": [],
   "source": [
    "path = F\"resnet/naive_accuracy_nonthree.txt\"\n",
    "with open(path, 'w') as f:\n",
    "  for data in naive_accuracy_nonthree:\n",
    "    f.write(f\"{data},\")"
   ]
  },
  {
   "cell_type": "markdown",
   "metadata": {
    "colab_type": "text",
    "id": "sVf2dnueBXY-"
   },
   "source": [
    "# Unlearning"
   ]
  },
  {
   "cell_type": "code",
   "execution_count": 29,
   "metadata": {
    "colab": {},
    "colab_type": "code",
    "executionInfo": {
     "elapsed": 345,
     "status": "ok",
     "timestamp": 1597331712098,
     "user": {
      "displayName": "Laura Graves",
      "photoUrl": "https://lh3.googleusercontent.com/a-/AOh14GiKkfAu7BQzHB05KzNcpkWJTPiliHjKSyQr1GwxRA=s64",
      "userId": "02198458421856045349"
     },
     "user_tz": 240
    },
    "id": "tckXSg7Yy-km"
   },
   "outputs": [],
   "source": [
    "path = F\"resnet/trained.pt\""
   ]
  },
  {
   "cell_type": "code",
   "execution_count": 30,
   "metadata": {
    "colab": {},
    "colab_type": "code",
    "executionInfo": {
     "elapsed": 633,
     "status": "ok",
     "timestamp": 1597331713405,
     "user": {
      "displayName": "Laura Graves",
      "photoUrl": "https://lh3.googleusercontent.com/a-/AOh14GiKkfAu7BQzHB05KzNcpkWJTPiliHjKSyQr1GwxRA=s64",
      "userId": "02198458421856045349"
     },
     "user_tz": 240
    },
    "id": "oBMlFLgaAePS"
   },
   "outputs": [],
   "source": [
    "checkpoint = torch.load(path)\n",
    "resnet.load_state_dict(checkpoint['model_state_dict'])\n",
    "optimizer.load_state_dict(checkpoint['optimizer_state_dict'])"
   ]
  },
  {
   "cell_type": "code",
   "execution_count": 31,
   "metadata": {},
   "outputs": [],
   "source": [
    "unlearning_accuracy_three = []\n",
    "unlearning_accuracy_nonthree =[]"
   ]
  },
  {
   "cell_type": "code",
   "execution_count": null,
   "metadata": {
    "colab": {
     "base_uri": "https://localhost:8080/",
     "height": 451
    },
    "colab_type": "code",
    "executionInfo": {
     "elapsed": 3218869,
     "status": "ok",
     "timestamp": 1597334933843,
     "user": {
      "displayName": "Laura Graves",
      "photoUrl": "https://lh3.googleusercontent.com/a-/AOh14GiKkfAu7BQzHB05KzNcpkWJTPiliHjKSyQr1GwxRA=s64",
      "userId": "02198458421856045349"
     },
     "user_tz": 240
    },
    "id": "kyFg75QtBZhn",
    "outputId": "7ae8a76c-b50d-4196-f8fd-e1f44dea5da7"
   },
   "outputs": [
    {
     "name": "stdout",
     "output_type": "stream",
     "text": [
      "Epoch: 11 [     0]\tLoss: 2.799031\n",
      "Epoch: 11 [ 32768]\tLoss: 0.111339\n",
      "All data: Mean loss: 0.0111, Accuracy: 8917/10000 (89%)\n",
      "Threes  : Mean loss: 0.0108, Accuracy: 0/1010 (0%)\n",
      "Nonthree: Mean loss: 0.0004, Accuracy: 8917/8990 (99%)\n",
      "Epoch: 12 [     0]\tLoss: 0.177126\n",
      "Epoch: 12 [ 32768]\tLoss: 0.125286\n"
     ]
    }
   ],
   "source": [
    "# Train model for 5 epochs\n",
    "for epoch in range(trainingepochs+1,trainingepochs+forgetfulepochs+1):\n",
    "  # train(resnet, epoch, unlearning_train_loader, returnable=False)\n",
    "  thracc, nacc = train(resnet, epoch, unlearning_train_loader, returnable=True)\n",
    "  unlearning_accuracy_three += thracc\n",
    "  unlearning_accuracy_nonthree += nacc\n",
    "  test(resnet, all_data_test_loader, dname=\"All data\")\n",
    "  test(resnet, three_test_loader, dname=\"Threes  \")\n",
    "  test(resnet, nonthree_test_loader, dname=\"Nonthree\")\n",
    "  path = F\"resnet/unlearning-epoch-{epoch}.pt\"\n",
    "  torch.save({ \n",
    "            'model_state_dict': resnet.state_dict(),\n",
    "            'optimizer_state_dict': optimizer.state_dict(),\n",
    "            }, path)"
   ]
  },
  {
   "cell_type": "code",
   "execution_count": null,
   "metadata": {
    "colab": {},
    "colab_type": "code",
    "executionInfo": {
     "elapsed": 3211026,
     "status": "ok",
     "timestamp": 1597334933851,
     "user": {
      "displayName": "Laura Graves",
      "photoUrl": "https://lh3.googleusercontent.com/a-/AOh14GiKkfAu7BQzHB05KzNcpkWJTPiliHjKSyQr1GwxRA=s64",
      "userId": "02198458421856045349"
     },
     "user_tz": 240
    },
    "id": "hRzHs0NaKFLg"
   },
   "outputs": [],
   "source": [
    "path = F\"resnet/unlearning_accuracy_three.txt\"\n",
    "with open(path, 'w') as f:\n",
    "  for data in unlearning_accuracy_three:\n",
    "    f.write(f\"{data},\")"
   ]
  },
  {
   "cell_type": "code",
   "execution_count": null,
   "metadata": {
    "colab": {},
    "colab_type": "code",
    "executionInfo": {
     "elapsed": 3210172,
     "status": "ok",
     "timestamp": 1597334933854,
     "user": {
      "displayName": "Laura Graves",
      "photoUrl": "https://lh3.googleusercontent.com/a-/AOh14GiKkfAu7BQzHB05KzNcpkWJTPiliHjKSyQr1GwxRA=s64",
      "userId": "02198458421856045349"
     },
     "user_tz": 240
    },
    "id": "2JgjgrxKKFLk"
   },
   "outputs": [],
   "source": [
    "path = F\"resnet/unlearning_accuracy_nonthree.txt\"\n",
    "with open(path, 'w') as f:\n",
    "  for data in unlearning_accuracy_nonthree:\n",
    "    f.write(f\"{data},\")"
   ]
  },
  {
   "cell_type": "markdown",
   "metadata": {
    "colab_type": "text",
    "id": "K3YL12ch4LMC"
   },
   "source": [
    "# Accuracy Plotting"
   ]
  },
  {
   "cell_type": "code",
   "execution_count": 49,
   "metadata": {
    "colab": {},
    "colab_type": "code",
    "executionInfo": {
     "elapsed": 448,
     "status": "ok",
     "timestamp": 1597335623978,
     "user": {
      "displayName": "Laura Graves",
      "photoUrl": "https://lh3.googleusercontent.com/a-/AOh14GiKkfAu7BQzHB05KzNcpkWJTPiliHjKSyQr1GwxRA=s64",
      "userId": "02198458421856045349"
     },
     "user_tz": 240
    },
    "id": "OSEXaug_mxiB"
   },
   "outputs": [],
   "source": [
    "unlearning_accuracy_nonthree.insert(0,0)\n",
    "unlearning_accuracy_three.insert(0,0)"
   ]
  },
  {
   "cell_type": "code",
   "execution_count": 28,
   "metadata": {
    "colab": {
     "base_uri": "https://localhost:8080/",
     "height": 265
    },
    "colab_type": "code",
    "executionInfo": {
     "elapsed": 523,
     "status": "ok",
     "timestamp": 1597335638258,
     "user": {
      "displayName": "Laura Graves",
      "photoUrl": "https://lh3.googleusercontent.com/a-/AOh14GiKkfAu7BQzHB05KzNcpkWJTPiliHjKSyQr1GwxRA=s64",
      "userId": "02198458421856045349"
     },
     "user_tz": 240
    },
    "id": "JghBmdap4TPL",
    "outputId": "fb46753e-9ed7-43c5-d66f-4eb5b8ec0b8e"
   },
   "outputs": [
    {
     "data": {
      "image/png": "[encoded data removed]",
      "text/plain": [
       "<Figure size 432x288 with 1 Axes>"
      ]
     },
     "metadata": {
      "needs_background": "light"
     },
     "output_type": "display_data"
    }
   ],
   "source": [
    "divval = 200\n",
    "xax = []\n",
    "for i in range(len(naive_accuracy_three)):\n",
    "  xax.append(i/divval)\n",
    "plt.plot(xax, naive_accuracy_three, label=\"retraining\")\n",
    "xax = []\n",
    "for i in range(len(naive_accuracy_nonthree)):\n",
    "  xax.append(i/divval)\n",
    "plt.plot(xax, naive_accuracy_nonthree, label=\"unlearning\")\n",
    "plt.axvline(x=5, ls='--', label=\"data removal request\")\n",
    "plt.legend(loc=\"lower left\")\n",
    "plt.show()"
   ]
  },
  {
   "cell_type": "code",
   "execution_count": null,
   "metadata": {
    "colab": {},
    "colab_type": "code",
    "id": "makzmA393DRG"
   },
   "outputs": [],
   "source": [
    "divval = 9\n",
    "xax = []\n",
    "for i in range(len(retrainingnacc)):\n",
    "  xax.append(i/divval)\n",
    "plt.plot(xax, retrainingnacc, label=\"retraining\")\n",
    "xax = []\n",
    "for i in range(len(unlearningnacc)):\n",
    "  xax.append(i/divval)\n",
    "plt.plot(xax, unlearningnacc, label=\"unlearning\")\n",
    "\n",
    "plt.axvline(x=5, ls='--', label=\"data removal request\")\n",
    "plt.legend(loc=\"lower right\")\n",
    "plt.show()"
   ]
  }
 ],
 "metadata": {
  "accelerator": "GPU",
  "colab": {
   "collapsed_sections": [
    "KwC4bhnrgf9G"
   ],
   "machine_shape": "hm",
   "name": "Unlearning Model Inversion - resnet18.ipynb",
   "provenance": [
    {
     "file_id": "1aV7FG_EMmhJuinBhU4DduYVZQJD6XRai",
     "timestamp": 1597065873226
    },
    {
     "file_id": "1DAYnyM3fRyey917NpKUFLffABPi2O_b2",
     "timestamp": 1587398961607
    },
    {
     "file_id": "1KNf7zLGtO-RttM-G245CSk99wGsO_mpj",
     "timestamp": 1573223459394
    }
   ],
   "toc_visible": true
  },
  "instance_type": "ml.t3.medium",
  "kernelspec": {
   "display_name": "Python 3 (Base Python)",
   "language": "python",
   "name": "python3__SAGEMAKER_INTERNAL__arn:aws:sagemaker:us-east-2:429704687514:image/python-3.6"
  },
  "language_info": {
   "codemirror_mode": {
    "name": "ipython",
    "version": 3
   },
   "file_extension": ".py",
   "mimetype": "text/x-python",
   "name": "python",
   "nbconvert_exporter": "python",
   "pygments_lexer": "ipython3",
   "version": "3.6.11"
  },
  "widgets": {
   "application/vnd.jupyter.widget-state+json": {
    "04fa014b4b174774b2051e6e9491fe09": {
     "model_module": "@jupyter-widgets/base",
     "model_name": "LayoutModel",
     "state": {
      "_model_module": "@jupyter-widgets/base",
      "_model_module_version": "1.2.0",
      "_model_name": "LayoutModel",
      "_view_count": null,
      "_view_module": "@jupyter-widgets/base",
      "_view_module_version": "1.2.0",
      "_view_name": "LayoutView",
      "align_content": null,
      "align_items": null,
      "align_self": null,
      "border": null,
      "bottom": null,
      "display": null,
      "flex": null,
      "flex_flow": null,
      "grid_area": null,
      "grid_auto_columns": null,
      "grid_auto_flow": null,
      "grid_auto_rows": null,
      "grid_column": null,
      "grid_gap": null,
      "grid_row": null,
      "grid_template_areas": null,
      "grid_template_columns": null,
      "grid_template_rows": null,
      "height": null,
      "justify_content": null,
      "justify_items": null,
      "left": null,
      "margin": null,
      "max_height": null,
      "max_width": null,
      "min_height": null,
      "min_width": null,
      "object_fit": null,
      "object_position": null,
      "order": null,
      "overflow": null,
      "overflow_x": null,
      "overflow_y": null,
      "padding": null,
      "right": null,
      "top": null,
      "visibility": null,
      "width": null
     }
    },
    "06a73fae4ed0415b85d31ae2fd7ef4b6": {
     "model_module": "@jupyter-widgets/controls",
     "model_name": "ProgressStyleModel",
     "state": {
      "_model_module": "@jupyter-widgets/controls",
      "_model_module_version": "1.5.0",
      "_model_name": "ProgressStyleModel",
      "_view_count": null,
      "_view_module": "@jupyter-widgets/base",
      "_view_module_version": "1.2.0",
      "_view_name": "StyleView",
      "bar_color": null,
      "description_width": "initial"
     }
    },
    "08dddba55de24a49bf9c84f2cedbba00": {
     "model_module": "@jupyter-widgets/controls",
     "model_name": "FloatProgressModel",
     "state": {
      "_dom_classes": [],
      "_model_module": "@jupyter-widgets/controls",
      "_model_module_version": "1.5.0",
      "_model_name": "FloatProgressModel",
      "_view_count": null,
      "_view_module": "@jupyter-widgets/controls",
      "_view_module_version": "1.5.0",
      "_view_name": "ProgressView",
      "bar_style": "success",
      "description": "",
      "description_tooltip": null,
      "layout": "IPY_MODEL_f4b73c98de9349a09b2275cf2f1ad005",
      "max": 1,
      "min": 0,
      "orientation": "horizontal",
      "style": "IPY_MODEL_4b03eb022f1d445abdc9cc4379238478",
      "value": 1
     }
    },
    "090474d95f1d48d3aecc44f785c57ca2": {
     "model_module": "@jupyter-widgets/controls",
     "model_name": "HTMLModel",
     "state": {
      "_dom_classes": [],
      "_model_module": "@jupyter-widgets/controls",
      "_model_module_version": "1.5.0",
      "_model_name": "HTMLModel",
      "_view_count": null,
      "_view_module": "@jupyter-widgets/controls",
      "_view_module_version": "1.5.0",
      "_view_name": "HTMLView",
      "description": "",
      "description_tooltip": null,
      "layout": "IPY_MODEL_79522c5c11fd455895f6def40115c1b1",
      "placeholder": "​",
      "style": "IPY_MODEL_72ee481e0e90406baf0bf2722f026b8a",
      "value": " 1654784/? [00:00&lt;00:00, 3158962.54it/s]"
     }
    },
    "156b1c5c87534d6a97220dc9177a59df": {
     "model_module": "@jupyter-widgets/base",
     "model_name": "LayoutModel",
     "state": {
      "_model_module": "@jupyter-widgets/base",
      "_model_module_version": "1.2.0",
      "_model_name": "LayoutModel",
      "_view_count": null,
      "_view_module": "@jupyter-widgets/base",
      "_view_module_version": "1.2.0",
      "_view_name": "LayoutView",
      "align_content": null,
      "align_items": null,
      "align_self": null,
      "border": null,
      "bottom": null,
      "display": null,
      "flex": null,
      "flex_flow": null,
      "grid_area": null,
      "grid_auto_columns": null,
      "grid_auto_flow": null,
      "grid_auto_rows": null,
      "grid_column": null,
      "grid_gap": null,
      "grid_row": null,
      "grid_template_areas": null,
      "grid_template_columns": null,
      "grid_template_rows": null,
      "height": null,
      "justify_content": null,
      "justify_items": null,
      "left": null,
      "margin": null,
      "max_height": null,
      "max_width": null,
      "min_height": null,
      "min_width": null,
      "object_fit": null,
      "object_position": null,
      "order": null,
      "overflow": null,
      "overflow_x": null,
      "overflow_y": null,
      "padding": null,
      "right": null,
      "top": null,
      "visibility": null,
      "width": null
     }
    },
    "35c84a4ed1ba4870b1336e006c33e767": {
     "model_module": "@jupyter-widgets/base",
     "model_name": "LayoutModel",
     "state": {
      "_model_module": "@jupyter-widgets/base",
      "_model_module_version": "1.2.0",
      "_model_name": "LayoutModel",
      "_view_count": null,
      "_view_module": "@jupyter-widgets/base",
      "_view_module_version": "1.2.0",
      "_view_name": "LayoutView",
      "align_content": null,
      "align_items": null,
      "align_self": null,
      "border": null,
      "bottom": null,
      "display": null,
      "flex": null,
      "flex_flow": null,
      "grid_area": null,
      "grid_auto_columns": null,
      "grid_auto_flow": null,
      "grid_auto_rows": null,
      "grid_column": null,
      "grid_gap": null,
      "grid_row": null,
      "grid_template_areas": null,
      "grid_template_columns": null,
      "grid_template_rows": null,
      "height": null,
      "justify_content": null,
      "justify_items": null,
      "left": null,
      "margin": null,
      "max_height": null,
      "max_width": null,
      "min_height": null,
      "min_width": null,
      "object_fit": null,
      "object_position": null,
      "order": null,
      "overflow": null,
      "overflow_x": null,
      "overflow_y": null,
      "padding": null,
      "right": null,
      "top": null,
      "visibility": null,
      "width": null
     }
    },
    "3b9265b3099846aabd75858c3bb5f5df": {
     "model_module": "@jupyter-widgets/controls",
     "model_name": "ProgressStyleModel",
     "state": {
      "_model_module": "@jupyter-widgets/controls",
      "_model_module_version": "1.5.0",
      "_model_name": "ProgressStyleModel",
      "_view_count": null,
      "_view_module": "@jupyter-widgets/base",
      "_view_module_version": "1.2.0",
      "_view_name": "StyleView",
      "bar_color": null,
      "description_width": "initial"
     }
    },
    "3d9642bfafc541a88affbf65e89700fd": {
     "model_module": "@jupyter-widgets/controls",
     "model_name": "DescriptionStyleModel",
     "state": {
      "_model_module": "@jupyter-widgets/controls",
      "_model_module_version": "1.5.0",
      "_model_name": "DescriptionStyleModel",
      "_view_count": null,
      "_view_module": "@jupyter-widgets/base",
      "_view_module_version": "1.2.0",
      "_view_name": "StyleView",
      "description_width": ""
     }
    },
    "46066bea204a4bbe830528b5de0c8372": {
     "model_module": "@jupyter-widgets/controls",
     "model_name": "HBoxModel",
     "state": {
      "_dom_classes": [],
      "_model_module": "@jupyter-widgets/controls",
      "_model_module_version": "1.5.0",
      "_model_name": "HBoxModel",
      "_view_count": null,
      "_view_module": "@jupyter-widgets/controls",
      "_view_module_version": "1.5.0",
      "_view_name": "HBoxView",
      "box_style": "",
      "children": [
       "IPY_MODEL_ee278e96efb140cd8720739850c7567f",
       "IPY_MODEL_71cb68dc80304efda622d5b0292667fb"
      ],
      "layout": "IPY_MODEL_b05a86270f424627bf697b84cb880d3b"
     }
    },
    "4b03eb022f1d445abdc9cc4379238478": {
     "model_module": "@jupyter-widgets/controls",
     "model_name": "ProgressStyleModel",
     "state": {
      "_model_module": "@jupyter-widgets/controls",
      "_model_module_version": "1.5.0",
      "_model_name": "ProgressStyleModel",
      "_view_count": null,
      "_view_module": "@jupyter-widgets/base",
      "_view_module_version": "1.2.0",
      "_view_name": "StyleView",
      "bar_color": null,
      "description_width": "initial"
     }
    },
    "5a222c004e144a9a89806b32517d1abe": {
     "model_module": "@jupyter-widgets/controls",
     "model_name": "FloatProgressModel",
     "state": {
      "_dom_classes": [],
      "_model_module": "@jupyter-widgets/controls",
      "_model_module_version": "1.5.0",
      "_model_name": "FloatProgressModel",
      "_view_count": null,
      "_view_module": "@jupyter-widgets/controls",
      "_view_module_version": "1.5.0",
      "_view_name": "ProgressView",
      "bar_style": "success",
      "description": "",
      "description_tooltip": null,
      "layout": "IPY_MODEL_a271a8b73de64d328aae4b7f5be56de6",
      "max": 1,
      "min": 0,
      "orientation": "horizontal",
      "style": "IPY_MODEL_be4bf227a70547f8a6718540b82c65a8",
      "value": 1
     }
    },
    "5dca13cc37aa42769c223bb2198592dc": {
     "model_module": "@jupyter-widgets/controls",
     "model_name": "DescriptionStyleModel",
     "state": {
      "_model_module": "@jupyter-widgets/controls",
      "_model_module_version": "1.5.0",
      "_model_name": "DescriptionStyleModel",
      "_view_count": null,
      "_view_module": "@jupyter-widgets/base",
      "_view_module_version": "1.2.0",
      "_view_name": "StyleView",
      "description_width": ""
     }
    },
    "71cb68dc80304efda622d5b0292667fb": {
     "model_module": "@jupyter-widgets/controls",
     "model_name": "HTMLModel",
     "state": {
      "_dom_classes": [],
      "_model_module": "@jupyter-widgets/controls",
      "_model_module_version": "1.5.0",
      "_model_name": "HTMLModel",
      "_view_count": null,
      "_view_module": "@jupyter-widgets/controls",
      "_view_module_version": "1.5.0",
      "_view_name": "HTMLView",
      "description": "",
      "description_tooltip": null,
      "layout": "IPY_MODEL_c538440ed4804e68beebf63eab85c61b",
      "placeholder": "​",
      "style": "IPY_MODEL_fd7f85df549c48b0b243f60fd4cb5b0f",
      "value": " 9920512/? [00:01&lt;00:00, 6982551.05it/s]"
     }
    },
    "72ee481e0e90406baf0bf2722f026b8a": {
     "model_module": "@jupyter-widgets/controls",
     "model_name": "DescriptionStyleModel",
     "state": {
      "_model_module": "@jupyter-widgets/controls",
      "_model_module_version": "1.5.0",
      "_model_name": "DescriptionStyleModel",
      "_view_count": null,
      "_view_module": "@jupyter-widgets/base",
      "_view_module_version": "1.2.0",
      "_view_name": "StyleView",
      "description_width": ""
     }
    },
    "790abeec3d4241c1b4bc1e69086308dc": {
     "model_module": "@jupyter-widgets/base",
     "model_name": "LayoutModel",
     "state": {
      "_model_module": "@jupyter-widgets/base",
      "_model_module_version": "1.2.0",
      "_model_name": "LayoutModel",
      "_view_count": null,
      "_view_module": "@jupyter-widgets/base",
      "_view_module_version": "1.2.0",
      "_view_name": "LayoutView",
      "align_content": null,
      "align_items": null,
      "align_self": null,
      "border": null,
      "bottom": null,
      "display": null,
      "flex": null,
      "flex_flow": null,
      "grid_area": null,
      "grid_auto_columns": null,
      "grid_auto_flow": null,
      "grid_auto_rows": null,
      "grid_column": null,
      "grid_gap": null,
      "grid_row": null,
      "grid_template_areas": null,
      "grid_template_columns": null,
      "grid_template_rows": null,
      "height": null,
      "justify_content": null,
      "justify_items": null,
      "left": null,
      "margin": null,
      "max_height": null,
      "max_width": null,
      "min_height": null,
      "min_width": null,
      "object_fit": null,
      "object_position": null,
      "order": null,
      "overflow": null,
      "overflow_x": null,
      "overflow_y": null,
      "padding": null,
      "right": null,
      "top": null,
      "visibility": null,
      "width": null
     }
    },
    "79522c5c11fd455895f6def40115c1b1": {
     "model_module": "@jupyter-widgets/base",
     "model_name": "LayoutModel",
     "state": {
      "_model_module": "@jupyter-widgets/base",
      "_model_module_version": "1.2.0",
      "_model_name": "LayoutModel",
      "_view_count": null,
      "_view_module": "@jupyter-widgets/base",
      "_view_module_version": "1.2.0",
      "_view_name": "LayoutView",
      "align_content": null,
      "align_items": null,
      "align_self": null,
      "border": null,
      "bottom": null,
      "display": null,
      "flex": null,
      "flex_flow": null,
      "grid_area": null,
      "grid_auto_columns": null,
      "grid_auto_flow": null,
      "grid_auto_rows": null,
      "grid_column": null,
      "grid_gap": null,
      "grid_row": null,
      "grid_template_areas": null,
      "grid_template_columns": null,
      "grid_template_rows": null,
      "height": null,
      "justify_content": null,
      "justify_items": null,
      "left": null,
      "margin": null,
      "max_height": null,
      "max_width": null,
      "min_height": null,
      "min_width": null,
      "object_fit": null,
      "object_position": null,
      "order": null,
      "overflow": null,
      "overflow_x": null,
      "overflow_y": null,
      "padding": null,
      "right": null,
      "top": null,
      "visibility": null,
      "width": null
     }
    },
    "987ffacff90040d5b07a2f462c42ab5f": {
     "model_module": "@jupyter-widgets/base",
     "model_name": "LayoutModel",
     "state": {
      "_model_module": "@jupyter-widgets/base",
      "_model_module_version": "1.2.0",
      "_model_name": "LayoutModel",
      "_view_count": null,
      "_view_module": "@jupyter-widgets/base",
      "_view_module_version": "1.2.0",
      "_view_name": "LayoutView",
      "align_content": null,
      "align_items": null,
      "align_self": null,
      "border": null,
      "bottom": null,
      "display": null,
      "flex": null,
      "flex_flow": null,
      "grid_area": null,
      "grid_auto_columns": null,
      "grid_auto_flow": null,
      "grid_auto_rows": null,
      "grid_column": null,
      "grid_gap": null,
      "grid_row": null,
      "grid_template_areas": null,
      "grid_template_columns": null,
      "grid_template_rows": null,
      "height": null,
      "justify_content": null,
      "justify_items": null,
      "left": null,
      "margin": null,
      "max_height": null,
      "max_width": null,
      "min_height": null,
      "min_width": null,
      "object_fit": null,
      "object_position": null,
      "order": null,
      "overflow": null,
      "overflow_x": null,
      "overflow_y": null,
      "padding": null,
      "right": null,
      "top": null,
      "visibility": null,
      "width": null
     }
    },
    "9967f6c34acb4814b361004d2b75a075": {
     "model_module": "@jupyter-widgets/controls",
     "model_name": "HBoxModel",
     "state": {
      "_dom_classes": [],
      "_model_module": "@jupyter-widgets/controls",
      "_model_module_version": "1.5.0",
      "_model_name": "HBoxModel",
      "_view_count": null,
      "_view_module": "@jupyter-widgets/controls",
      "_view_module_version": "1.5.0",
      "_view_name": "HBoxView",
      "box_style": "",
      "children": [
       "IPY_MODEL_5a222c004e144a9a89806b32517d1abe",
       "IPY_MODEL_c4c370e2d0a04fa082e7747a93294ba8"
      ],
      "layout": "IPY_MODEL_04fa014b4b174774b2051e6e9491fe09"
     }
    },
    "a271a8b73de64d328aae4b7f5be56de6": {
     "model_module": "@jupyter-widgets/base",
     "model_name": "LayoutModel",
     "state": {
      "_model_module": "@jupyter-widgets/base",
      "_model_module_version": "1.2.0",
      "_model_name": "LayoutModel",
      "_view_count": null,
      "_view_module": "@jupyter-widgets/base",
      "_view_module_version": "1.2.0",
      "_view_name": "LayoutView",
      "align_content": null,
      "align_items": null,
      "align_self": null,
      "border": null,
      "bottom": null,
      "display": null,
      "flex": null,
      "flex_flow": null,
      "grid_area": null,
      "grid_auto_columns": null,
      "grid_auto_flow": null,
      "grid_auto_rows": null,
      "grid_column": null,
      "grid_gap": null,
      "grid_row": null,
      "grid_template_areas": null,
      "grid_template_columns": null,
      "grid_template_rows": null,
      "height": null,
      "justify_content": null,
      "justify_items": null,
      "left": null,
      "margin": null,
      "max_height": null,
      "max_width": null,
      "min_height": null,
      "min_width": null,
      "object_fit": null,
      "object_position": null,
      "order": null,
      "overflow": null,
      "overflow_x": null,
      "overflow_y": null,
      "padding": null,
      "right": null,
      "top": null,
      "visibility": null,
      "width": null
     }
    },
    "add6cb57c0f6409ca83c37cc00b50083": {
     "model_module": "@jupyter-widgets/controls",
     "model_name": "FloatProgressModel",
     "state": {
      "_dom_classes": [],
      "_model_module": "@jupyter-widgets/controls",
      "_model_module_version": "1.5.0",
      "_model_name": "FloatProgressModel",
      "_view_count": null,
      "_view_module": "@jupyter-widgets/controls",
      "_view_module_version": "1.5.0",
      "_view_name": "ProgressView",
      "bar_style": "success",
      "description": "",
      "description_tooltip": null,
      "layout": "IPY_MODEL_790abeec3d4241c1b4bc1e69086308dc",
      "max": 1,
      "min": 0,
      "orientation": "horizontal",
      "style": "IPY_MODEL_06a73fae4ed0415b85d31ae2fd7ef4b6",
      "value": 1
     }
    },
    "b05a86270f424627bf697b84cb880d3b": {
     "model_module": "@jupyter-widgets/base",
     "model_name": "LayoutModel",
     "state": {
      "_model_module": "@jupyter-widgets/base",
      "_model_module_version": "1.2.0",
      "_model_name": "LayoutModel",
      "_view_count": null,
      "_view_module": "@jupyter-widgets/base",
      "_view_module_version": "1.2.0",
      "_view_name": "LayoutView",
      "align_content": null,
      "align_items": null,
      "align_self": null,
      "border": null,
      "bottom": null,
      "display": null,
      "flex": null,
      "flex_flow": null,
      "grid_area": null,
      "grid_auto_columns": null,
      "grid_auto_flow": null,
      "grid_auto_rows": null,
      "grid_column": null,
      "grid_gap": null,
      "grid_row": null,
      "grid_template_areas": null,
      "grid_template_columns": null,
      "grid_template_rows": null,
      "height": null,
      "justify_content": null,
      "justify_items": null,
      "left": null,
      "margin": null,
      "max_height": null,
      "max_width": null,
      "min_height": null,
      "min_width": null,
      "object_fit": null,
      "object_position": null,
      "order": null,
      "overflow": null,
      "overflow_x": null,
      "overflow_y": null,
      "padding": null,
      "right": null,
      "top": null,
      "visibility": null,
      "width": null
     }
    },
    "b20301e5279a4c9a8ffb693c16ade0c0": {
     "model_module": "@jupyter-widgets/base",
     "model_name": "LayoutModel",
     "state": {
      "_model_module": "@jupyter-widgets/base",
      "_model_module_version": "1.2.0",
      "_model_name": "LayoutModel",
      "_view_count": null,
      "_view_module": "@jupyter-widgets/base",
      "_view_module_version": "1.2.0",
      "_view_name": "LayoutView",
      "align_content": null,
      "align_items": null,
      "align_self": null,
      "border": null,
      "bottom": null,
      "display": null,
      "flex": null,
      "flex_flow": null,
      "grid_area": null,
      "grid_auto_columns": null,
      "grid_auto_flow": null,
      "grid_auto_rows": null,
      "grid_column": null,
      "grid_gap": null,
      "grid_row": null,
      "grid_template_areas": null,
      "grid_template_columns": null,
      "grid_template_rows": null,
      "height": null,
      "justify_content": null,
      "justify_items": null,
      "left": null,
      "margin": null,
      "max_height": null,
      "max_width": null,
      "min_height": null,
      "min_width": null,
      "object_fit": null,
      "object_position": null,
      "order": null,
      "overflow": null,
      "overflow_x": null,
      "overflow_y": null,
      "padding": null,
      "right": null,
      "top": null,
      "visibility": null,
      "width": null
     }
    },
    "b73c5dbad7e447e182061d48380fd3bf": {
     "model_module": "@jupyter-widgets/controls",
     "model_name": "HBoxModel",
     "state": {
      "_dom_classes": [],
      "_model_module": "@jupyter-widgets/controls",
      "_model_module_version": "1.5.0",
      "_model_name": "HBoxModel",
      "_view_count": null,
      "_view_module": "@jupyter-widgets/controls",
      "_view_module_version": "1.5.0",
      "_view_name": "HBoxView",
      "box_style": "",
      "children": [
       "IPY_MODEL_add6cb57c0f6409ca83c37cc00b50083",
       "IPY_MODEL_ba32e53d6f5d44d2b7721f14a7737e9e"
      ],
      "layout": "IPY_MODEL_35c84a4ed1ba4870b1336e006c33e767"
     }
    },
    "ba32e53d6f5d44d2b7721f14a7737e9e": {
     "model_module": "@jupyter-widgets/controls",
     "model_name": "HTMLModel",
     "state": {
      "_dom_classes": [],
      "_model_module": "@jupyter-widgets/controls",
      "_model_module_version": "1.5.0",
      "_model_name": "HTMLModel",
      "_view_count": null,
      "_view_module": "@jupyter-widgets/controls",
      "_view_module_version": "1.5.0",
      "_view_name": "HTMLView",
      "description": "",
      "description_tooltip": null,
      "layout": "IPY_MODEL_156b1c5c87534d6a97220dc9177a59df",
      "placeholder": "​",
      "style": "IPY_MODEL_5dca13cc37aa42769c223bb2198592dc",
      "value": " 8192/? [00:00&lt;00:00, 41531.73it/s]"
     }
    },
    "be4bf227a70547f8a6718540b82c65a8": {
     "model_module": "@jupyter-widgets/controls",
     "model_name": "ProgressStyleModel",
     "state": {
      "_model_module": "@jupyter-widgets/controls",
      "_model_module_version": "1.5.0",
      "_model_name": "ProgressStyleModel",
      "_view_count": null,
      "_view_module": "@jupyter-widgets/base",
      "_view_module_version": "1.2.0",
      "_view_name": "StyleView",
      "bar_color": null,
      "description_width": "initial"
     }
    },
    "c4391ac0090443e4824d2d147ae94448": {
     "model_module": "@jupyter-widgets/controls",
     "model_name": "HBoxModel",
     "state": {
      "_dom_classes": [],
      "_model_module": "@jupyter-widgets/controls",
      "_model_module_version": "1.5.0",
      "_model_name": "HBoxModel",
      "_view_count": null,
      "_view_module": "@jupyter-widgets/controls",
      "_view_module_version": "1.5.0",
      "_view_name": "HBoxView",
      "box_style": "",
      "children": [
       "IPY_MODEL_08dddba55de24a49bf9c84f2cedbba00",
       "IPY_MODEL_090474d95f1d48d3aecc44f785c57ca2"
      ],
      "layout": "IPY_MODEL_987ffacff90040d5b07a2f462c42ab5f"
     }
    },
    "c4c370e2d0a04fa082e7747a93294ba8": {
     "model_module": "@jupyter-widgets/controls",
     "model_name": "HTMLModel",
     "state": {
      "_dom_classes": [],
      "_model_module": "@jupyter-widgets/controls",
      "_model_module_version": "1.5.0",
      "_model_name": "HTMLModel",
      "_view_count": null,
      "_view_module": "@jupyter-widgets/controls",
      "_view_module_version": "1.5.0",
      "_view_name": "HTMLView",
      "description": "",
      "description_tooltip": null,
      "layout": "IPY_MODEL_b20301e5279a4c9a8ffb693c16ade0c0",
      "placeholder": "​",
      "style": "IPY_MODEL_3d9642bfafc541a88affbf65e89700fd",
      "value": " 32768/? [00:00&lt;00:00, 48785.22it/s]"
     }
    },
    "c538440ed4804e68beebf63eab85c61b": {
     "model_module": "@jupyter-widgets/base",
     "model_name": "LayoutModel",
     "state": {
      "_model_module": "@jupyter-widgets/base",
      "_model_module_version": "1.2.0",
      "_model_name": "LayoutModel",
      "_view_count": null,
      "_view_module": "@jupyter-widgets/base",
      "_view_module_version": "1.2.0",
      "_view_name": "LayoutView",
      "align_content": null,
      "align_items": null,
      "align_self": null,
      "border": null,
      "bottom": null,
      "display": null,
      "flex": null,
      "flex_flow": null,
      "grid_area": null,
      "grid_auto_columns": null,
      "grid_auto_flow": null,
      "grid_auto_rows": null,
      "grid_column": null,
      "grid_gap": null,
      "grid_row": null,
      "grid_template_areas": null,
      "grid_template_columns": null,
      "grid_template_rows": null,
      "height": null,
      "justify_content": null,
      "justify_items": null,
      "left": null,
      "margin": null,
      "max_height": null,
      "max_width": null,
      "min_height": null,
      "min_width": null,
      "object_fit": null,
      "object_position": null,
      "order": null,
      "overflow": null,
      "overflow_x": null,
      "overflow_y": null,
      "padding": null,
      "right": null,
      "top": null,
      "visibility": null,
      "width": null
     }
    },
    "c94ce7e9c3bc4bc7b25c4ce3861987df": {
     "model_module": "@jupyter-widgets/base",
     "model_name": "LayoutModel",
     "state": {
      "_model_module": "@jupyter-widgets/base",
      "_model_module_version": "1.2.0",
      "_model_name": "LayoutModel",
      "_view_count": null,
      "_view_module": "@jupyter-widgets/base",
      "_view_module_version": "1.2.0",
      "_view_name": "LayoutView",
      "align_content": null,
      "align_items": null,
      "align_self": null,
      "border": null,
      "bottom": null,
      "display": null,
      "flex": null,
      "flex_flow": null,
      "grid_area": null,
      "grid_auto_columns": null,
      "grid_auto_flow": null,
      "grid_auto_rows": null,
      "grid_column": null,
      "grid_gap": null,
      "grid_row": null,
      "grid_template_areas": null,
      "grid_template_columns": null,
      "grid_template_rows": null,
      "height": null,
      "justify_content": null,
      "justify_items": null,
      "left": null,
      "margin": null,
      "max_height": null,
      "max_width": null,
      "min_height": null,
      "min_width": null,
      "object_fit": null,
      "object_position": null,
      "order": null,
      "overflow": null,
      "overflow_x": null,
      "overflow_y": null,
      "padding": null,
      "right": null,
      "top": null,
      "visibility": null,
      "width": null
     }
    },
    "ee278e96efb140cd8720739850c7567f": {
     "model_module": "@jupyter-widgets/controls",
     "model_name": "FloatProgressModel",
     "state": {
      "_dom_classes": [],
      "_model_module": "@jupyter-widgets/controls",
      "_model_module_version": "1.5.0",
      "_model_name": "FloatProgressModel",
      "_view_count": null,
      "_view_module": "@jupyter-widgets/controls",
      "_view_module_version": "1.5.0",
      "_view_name": "ProgressView",
      "bar_style": "success",
      "description": "",
      "description_tooltip": null,
      "layout": "IPY_MODEL_c94ce7e9c3bc4bc7b25c4ce3861987df",
      "max": 1,
      "min": 0,
      "orientation": "horizontal",
      "style": "IPY_MODEL_3b9265b3099846aabd75858c3bb5f5df",
      "value": 1
     }
    },
    "f4b73c98de9349a09b2275cf2f1ad005": {
     "model_module": "@jupyter-widgets/base",
     "model_name": "LayoutModel",
     "state": {
      "_model_module": "@jupyter-widgets/base",
      "_model_module_version": "1.2.0",
      "_model_name": "LayoutModel",
      "_view_count": null,
      "_view_module": "@jupyter-widgets/base",
      "_view_module_version": "1.2.0",
      "_view_name": "LayoutView",
      "align_content": null,
      "align_items": null,
      "align_self": null,
      "border": null,
      "bottom": null,
      "display": null,
      "flex": null,
      "flex_flow": null,
      "grid_area": null,
      "grid_auto_columns": null,
      "grid_auto_flow": null,
      "grid_auto_rows": null,
      "grid_column": null,
      "grid_gap": null,
      "grid_row": null,
      "grid_template_areas": null,
      "grid_template_columns": null,
      "grid_template_rows": null,
      "height": null,
      "justify_content": null,
      "justify_items": null,
      "left": null,
      "margin": null,
      "max_height": null,
      "max_width": null,
      "min_height": null,
      "min_width": null,
      "object_fit": null,
      "object_position": null,
      "order": null,
      "overflow": null,
      "overflow_x": null,
      "overflow_y": null,
      "padding": null,
      "right": null,
      "top": null,
      "visibility": null,
      "width": null
     }
    },
    "fd7f85df549c48b0b243f60fd4cb5b0f": {
     "model_module": "@jupyter-widgets/controls",
     "model_name": "DescriptionStyleModel",
     "state": {
      "_model_module": "@jupyter-widgets/controls",
      "_model_module_version": "1.5.0",
      "_model_name": "DescriptionStyleModel",
      "_view_count": null,
      "_view_module": "@jupyter-widgets/base",
      "_view_module_version": "1.2.0",
      "_view_name": "StyleView",
      "description_width": ""
     }
    }
   }
  }
 },
 "nbformat": 4,
 "nbformat_minor": 4
}
